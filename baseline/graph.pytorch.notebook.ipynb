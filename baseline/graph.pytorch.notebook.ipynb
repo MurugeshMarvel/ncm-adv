{
 "cells": [
  {
   "cell_type": "markdown",
   "metadata": {},
   "source": [
    "# STATIC GRAPH"
   ]
  },
  {
   "cell_type": "code",
   "execution_count": 55,
   "metadata": {
    "collapsed": true
   },
   "outputs": [],
   "source": [
    "import torch\n",
    "from torch import nn\n",
    "import torch.nn.functional as F\n",
    "from torch import optim\n",
    "from torch.autograd import Variable\n"
   ]
  },
  {
   "cell_type": "markdown",
   "metadata": {},
   "source": [
    "## DATA"
   ]
  },
  {
   "cell_type": "code",
   "execution_count": 56,
   "metadata": {
    "collapsed": true
   },
   "outputs": [],
   "source": [
    "import data_utils\n",
    "metadata, idx_q, idx_a = data_utils.load_data('../data/')"
   ]
  },
  {
   "cell_type": "code",
   "execution_count": 57,
   "metadata": {
    "collapsed": true
   },
   "outputs": [],
   "source": [
    "# add special symbol\n",
    "i2w = metadata['idx2w'] + ['GO']\n",
    "w2i = metadata['w2idx']\n",
    "w2i['GO'] = len(i2w)-1"
   ]
  },
  {
   "cell_type": "markdown",
   "metadata": {},
   "source": [
    "## Parameters"
   ]
  },
  {
   "cell_type": "code",
   "execution_count": 74,
   "metadata": {},
   "outputs": [],
   "source": [
    "batch_size = 1\n",
    "L = len(idx_q[0])\n",
    "vocab_size = len(i2w)\n",
    "hidden_size = 256"
   ]
  },
  {
   "cell_type": "code",
   "execution_count": 84,
   "metadata": {},
   "outputs": [],
   "source": [
    "class Config:\n",
    "    pass\n",
    "\n",
    "config = Config()\n",
    "config.printsize = True"
   ]
  },
  {
   "cell_type": "code",
   "execution_count": 169,
   "metadata": {},
   "outputs": [
    {
     "data": {
      "text/plain": [
       "267518"
      ]
     },
     "execution_count": 169,
     "metadata": {},
     "output_type": "execute_result"
    }
   ],
   "source": [
    "len(idx_q)"
   ]
  },
  {
   "cell_type": "markdown",
   "metadata": {},
   "source": [
    "\n",
    "## Graph"
   ]
  },
  {
   "cell_type": "code",
   "execution_count": 278,
   "metadata": {
    "collapsed": true
   },
   "outputs": [],
   "source": [
    "def initial_state():\n",
    "    state = torch.zeros([batch_size, hidden_size])\n",
    "    return Variable(state.cuda())\n",
    "\n",
    "def psize(name, variable):\n",
    "    if config.printsize:\n",
    "        print(name, variable.size(), type(variable.data))\n",
    "        \n",
    "class Encoder(nn.Module):\n",
    "    def __init__(self, vocab_size, hidden_size):\n",
    "        super(Encoder, self).__init__()\n",
    "        \n",
    "        self.vocab_size = vocab_size\n",
    "        self.hidden_size = hidden_size\n",
    "                \n",
    "        self.embed = nn.Embedding(vocab_size, hidden_size)\n",
    "        self.encode = nn.LSTMCell(hidden_size, hidden_size)\n",
    "            \n",
    "    def forward(self, enc_inputs, hidden):\n",
    "        psize('enc_inputs', enc_inputs)\n",
    "        enc_embeddings = self.embed(enc_inputs).unsqueeze(1)                   #LxBxH\n",
    "                \n",
    "        psize('enc_embeddings', enc_embeddings)        \n",
    "        hidden, cell_state = hidden\n",
    "        for i in range(enc_embeddings.size()[1]):\n",
    "            hidden, cell_state = self.encode(enc_embeddings[i], (hidden, cell_state))\n",
    "            \n",
    "        return hidden, cell_state\n",
    "    \n",
    "class Decoder(nn.Module):\n",
    "    def __init__(self, vocab_size, hidden_size):\n",
    "        super(Decoder, self).__init__()\n",
    "        \n",
    "        self.vocab_size = vocab_size\n",
    "        self.hidden_size = hidden_size\n",
    "        \n",
    "        self.decode = nn.LSTMCell(hidden_size, hidden_size)\n",
    "        self.embed = nn.Embedding(vocab_size, hidden_size)\n",
    "        self.project = nn.Linear(hidden_size, vocab_size)\n",
    "        \n",
    "    def forward(self, outputs, hidden):\n",
    "        psize('hidden', hidden[0]), psize('hidden', hidden[1])\n",
    "        predicted_outputs = []\n",
    "    \n",
    "        dec_embeddings = self.embed(outputs).unsqueeze(1)           #LxBxH\n",
    "    \n",
    "        GO = torch.LongTensor([w2i['GO']]).cuda()            \n",
    "        GO = Variable(GO)\n",
    "        psize('GO', GO)\n",
    "        GO_emb = self.embed(GO)\n",
    "        psize('GO_emd', GO_emb)\n",
    "        \n",
    "        hidden, cell_state = self.decode(GO_emb, hidden)\n",
    "        predicted_outputs.append(hidden)\n",
    "        for i in range(outputs.size()[0] - 1):\n",
    "            import random\n",
    "            if random.random() > 0:\n",
    "                dec_input = dec_embeddings[i+1]\n",
    "            else:\n",
    "                dec_input = hidden\n",
    "            hidden, cell_state = self.decode(dec_input, (hidden, cell_state))\n",
    "            predicted_outputs.append(hidden)\n",
    "            \n",
    "        predicted_outputs = torch.stack(predicted_outputs).squeeze(1)\n",
    "        psize('predicted_outputs', predicted_outputs)\n",
    "\n",
    "        predicted_outputs = self.project(predicted_outputs)\n",
    "        psize('predicted_outputs', predicted_outputs)\n",
    "        return predicted_outputs\n",
    "    \n",
    "    def predict(self, outputs, hidden):\n",
    "        psize('hidden', hidden[0]), psize('hidden', hidden[1])\n",
    "        predicted_outputs = []\n",
    "    \n",
    "        dec_embeddings = self.embed(outputs).unsqueeze(1)           #LxBxH\n",
    "    \n",
    "        GO = torch.LongTensor([w2i['GO']]).cuda()            \n",
    "        GO = Variable(GO)\n",
    "        psize('GO', GO)\n",
    "        GO_emb = self.embed(GO)\n",
    "        psize('GO_emd', GO_emb)\n",
    "        \n",
    "        hidden, cell_state = self.decode(GO_emb, hidden)\n",
    "        predicted_outputs.append(hidden)\n",
    "        for i in range(outputs.size()[0] - 1):\n",
    "            dec_input = hidden\n",
    "            hidden, cell_state = self.decode(dec_input, (hidden, cell_state))\n",
    "            predicted_outputs.append(hidden)\n",
    "            \n",
    "        predicted_outputs = torch.stack(predicted_outputs).squeeze(1)\n",
    "        psize('predicted_outputs', predicted_outputs)\n",
    "\n",
    "        predicted_outputs = self.project(predicted_outputs)\n",
    "        psize('predicted_outputs', predicted_outputs)\n",
    "        return predicted_outputs\n",
    "    "
   ]
  },
  {
   "cell_type": "markdown",
   "metadata": {},
   "source": [
    "# TRAINING"
   ]
  },
  {
   "cell_type": "code",
   "execution_count": 206,
   "metadata": {},
   "outputs": [],
   "source": [
    "from pprint import pprint\n",
    "from tqdm import tqdm\n",
    "def train_epochs(epochs, encoder, decoder, eoptim, doptim, criterion, print_every=1):\n",
    "    model.train()\n",
    "    losses = []\n",
    "    config.printsize = True\n",
    "\n",
    "    for epoch in tqdm(range(epochs+1)):\n",
    "        loss = train(encoder, decoder, eoptim, doptim, criterion, idx_q[:30000], idx_a[:30000])    \n",
    "        if epoch % print_every == 0:\n",
    "            losses.append(loss)\n",
    "            print('{} - loss: {}'.format(epoch, loss))\n",
    "\n",
    "        \n",
    "def train(encoder, decoder, eoptim, doptim, criterion, question_ids, answer_ids):\n",
    "    for question_id, answer_id in zip(question_ids, answer_ids):\n",
    "        data = Variable(torch.from_numpy(question_id).long().cuda())\n",
    "        target = Variable(torch.from_numpy(answer_id).long().cuda())\n",
    "\n",
    "        eoptim.zero_grad(), doptim.zero_grad()    \n",
    "        initial_hidden = initial_state().cuda(), initial_state().cuda()\n",
    "        \n",
    "        encoder_output = encoder(data, initial_hidden)\n",
    "        decoder_output = decoder(target, encoder_output)\n",
    "        logits = F.log_softmax(decoder_output)\n",
    "        loss = criterion(logits, target)    \n",
    "        loss.backward()\n",
    "        eoptim.step(), doptim.step()\n",
    "        config.printsize = False\n",
    "    return loss.data[0]"
   ]
  },
  {
   "cell_type": "code",
   "execution_count": 194,
   "metadata": {},
   "outputs": [],
   "source": [
    "encoder = Encoder(vocab_size, hidden_size)\n",
    "decoder = Decoder(vocab_size, hidden_size)\n",
    "\n",
    "encoder.cuda()\n",
    "decoder.cuda()\n",
    "\n",
    "criterion = nn.NLLLoss()\n",
    "\n",
    "eoptim = optim.SGD(encoder.parameters(), lr=0.1, momentum=0.1)\n",
    "doptim = optim.SGD(decoder.parameters(), lr=0.1, momentum=0.1)"
   ]
  },
  {
   "cell_type": "code",
   "execution_count": 276,
   "metadata": {
    "scrolled": true
   },
   "outputs": [
    {
     "name": "stderr",
     "output_type": "stream",
     "text": [
      "\r",
      "  0%|          | 0/11 [00:00<?, ?it/s]"
     ]
    },
    {
     "name": "stdout",
     "output_type": "stream",
     "text": [
      "enc_inputs torch.Size([21]) <class 'torch.autograd.variable.Variable'>\n",
      "enc_embeddings torch.Size([21, 1, 256]) <class 'torch.autograd.variable.Variable'>\n",
      "hidden torch.Size([1, 256]) <class 'torch.autograd.variable.Variable'>\n",
      "hidden torch.Size([1, 256]) <class 'torch.autograd.variable.Variable'>\n",
      "GO torch.Size([1]) <class 'torch.autograd.variable.Variable'>\n",
      "GO_emd torch.Size([1, 256]) <class 'torch.autograd.variable.Variable'>\n",
      "predicted_outputs torch.Size([21, 256]) <class 'torch.autograd.variable.Variable'>\n",
      "predicted_outputs torch.Size([21, 6005]) <class 'torch.autograd.variable.Variable'>\n"
     ]
    },
    {
     "name": "stderr",
     "output_type": "stream",
     "text": [
      "\r",
      "  9%|▉         | 1/11 [08:53<1:28:50, 533.04s/it]"
     ]
    },
    {
     "name": "stdout",
     "output_type": "stream",
     "text": [
      "0 - loss: 0.23039956390857697\n"
     ]
    },
    {
     "name": "stderr",
     "output_type": "stream",
     "text": [
      "\r",
      " 18%|█▊        | 2/11 [18:34<1:22:08, 547.63s/it]"
     ]
    },
    {
     "name": "stdout",
     "output_type": "stream",
     "text": [
      "1 - loss: 0.22800886631011963\n"
     ]
    },
    {
     "name": "stderr",
     "output_type": "stream",
     "text": [
      "\r",
      " 27%|██▋       | 3/11 [28:06<1:13:57, 554.74s/it]"
     ]
    },
    {
     "name": "stdout",
     "output_type": "stream",
     "text": [
      "2 - loss: 0.22560757398605347\n"
     ]
    },
    {
     "name": "stderr",
     "output_type": "stream",
     "text": [
      "\r",
      " 36%|███▋      | 4/11 [37:59<1:06:03, 566.26s/it]"
     ]
    },
    {
     "name": "stdout",
     "output_type": "stream",
     "text": [
      "3 - loss: 0.22365570068359375\n"
     ]
    },
    {
     "name": "stderr",
     "output_type": "stream",
     "text": [
      "\r",
      " 45%|████▌     | 5/11 [47:14<56:17, 562.96s/it]  "
     ]
    },
    {
     "name": "stdout",
     "output_type": "stream",
     "text": [
      "4 - loss: 0.2219550907611847\n"
     ]
    },
    {
     "name": "stderr",
     "output_type": "stream",
     "text": [
      "\r",
      " 55%|█████▍    | 6/11 [56:54<47:20, 568.01s/it]"
     ]
    },
    {
     "name": "stdout",
     "output_type": "stream",
     "text": [
      "5 - loss: 0.22024543583393097\n"
     ]
    },
    {
     "name": "stderr",
     "output_type": "stream",
     "text": [
      "\r",
      " 64%|██████▎   | 7/11 [1:06:02<37:28, 562.15s/it]"
     ]
    },
    {
     "name": "stdout",
     "output_type": "stream",
     "text": [
      "6 - loss: 0.21847470104694366\n"
     ]
    },
    {
     "name": "stderr",
     "output_type": "stream",
     "text": [
      "\r",
      " 73%|███████▎  | 8/11 [1:15:11<27:54, 558.02s/it]"
     ]
    },
    {
     "name": "stdout",
     "output_type": "stream",
     "text": [
      "7 - loss: 0.21648193895816803\n"
     ]
    },
    {
     "name": "stderr",
     "output_type": "stream",
     "text": [
      "\r",
      " 82%|████████▏ | 9/11 [1:24:03<18:20, 550.33s/it]"
     ]
    },
    {
     "name": "stdout",
     "output_type": "stream",
     "text": [
      "8 - loss: 0.21421021223068237\n"
     ]
    },
    {
     "name": "stderr",
     "output_type": "stream",
     "text": [
      "\r",
      " 91%|█████████ | 10/11 [1:32:59<09:05, 545.95s/it]"
     ]
    },
    {
     "name": "stdout",
     "output_type": "stream",
     "text": [
      "9 - loss: 0.21166130900382996\n"
     ]
    },
    {
     "name": "stderr",
     "output_type": "stream",
     "text": [
      "\r",
      "100%|██████████| 11/11 [1:41:51<00:00, 541.96s/it]"
     ]
    },
    {
     "name": "stdout",
     "output_type": "stream",
     "text": [
      "10 - loss: 0.20907345414161682\n"
     ]
    },
    {
     "name": "stderr",
     "output_type": "stream",
     "text": [
      "\n"
     ]
    }
   ],
   "source": [
    "train_epochs(10, encoder, decoder, eoptim, doptim, criterion,)"
   ]
  },
  {
   "cell_type": "code",
   "execution_count": 213,
   "metadata": {},
   "outputs": [],
   "source": [
    "torch.save(encoder.state_dict(), 'graph.pytorch.encoder.pth')\n",
    "torch.save(decoder.state_dict(), 'graph.pytorch.decoder.pth')"
   ]
  },
  {
   "cell_type": "markdown",
   "metadata": {},
   "source": [
    "## Test"
   ]
  },
  {
   "cell_type": "code",
   "execution_count": 279,
   "metadata": {
    "collapsed": true
   },
   "outputs": [],
   "source": [
    "encoder_test = Encoder(vocab_size, hidden_size)\n",
    "decoder_test = Decoder(vocab_size, hidden_size)\n",
    "encoder_test.cuda()\n",
    "decoder_test.cuda()\n",
    "encoder_test.load_state_dict(torch.load('graph.pytorch.encoder.pth'))\n",
    "decoder_test.load_state_dict(torch.load('graph.pytorch.decoder.pth'))"
   ]
  },
  {
   "cell_type": "code",
   "execution_count": 280,
   "metadata": {},
   "outputs": [
    {
     "name": "stdout",
     "output_type": "stream",
     "text": [
      "enc_inputs torch.Size([21]) <class 'torch.cuda.LongTensor'>\n",
      "enc_embeddings torch.Size([21, 1, 256]) <class 'torch.cuda.FloatTensor'>\n",
      "hidden torch.Size([1, 256]) <class 'torch.cuda.FloatTensor'>\n",
      "hidden torch.Size([1, 256]) <class 'torch.cuda.FloatTensor'>\n",
      "GO torch.Size([1]) <class 'torch.cuda.LongTensor'>\n",
      "GO_emd torch.Size([1, 256]) <class 'torch.cuda.FloatTensor'>\n",
      "predicted_outputs torch.Size([21, 256]) <class 'torch.cuda.FloatTensor'>\n",
      "predicted_outputs torch.Size([21, 6005]) <class 'torch.cuda.FloatTensor'>\n"
     ]
    }
   ],
   "source": [
    "batch = 0\n",
    "l, r = batch * B, (batch + 1) * B\n",
    "test_q, test_a = idx_q[0], idx_a[0]\n",
    "\n",
    "encoder_test.eval()\n",
    "decoder_test.eval()\n",
    "\n",
    "test_q = Variable(torch.from_numpy(test_q).long().cuda())\n",
    "test_a = Variable(torch.from_numpy(test_a).long().cuda())\n",
    "\n",
    "config.printsize = True\n",
    "\n",
    "hidden = initial_state().cuda(), initial_state().cuda()\n",
    "predictions = decoder_test.predict(test_a, encoder_test(test_q, hidden))\n",
    "predictions = F.log_softmax(predictions).max(1)[1].squeeze(1)\n"
   ]
  },
  {
   "cell_type": "code",
   "execution_count": 216,
   "metadata": {
    "collapsed": true
   },
   "outputs": [],
   "source": [
    "def arr2sent(arr):\n",
    "    return ' '.join([i2w[item] for item in arr])"
   ]
  },
  {
   "cell_type": "code",
   "execution_count": 281,
   "metadata": {},
   "outputs": [
    {
     "name": "stdout",
     "output_type": "stream",
     "text": [
      "Variable containing:\n",
      "    1\n",
      "  624\n",
      " 3921\n",
      " 4403\n",
      " 4239\n",
      "  475\n",
      "  475\n",
      " 1240\n",
      " 1240\n",
      " 4106\n",
      " 4102\n",
      " 3722\n",
      "  414\n",
      " 3920\n",
      " 1795\n",
      "  855\n",
      " 3428\n",
      "  475\n",
      "  475\n",
      " 1240\n",
      " 3207\n",
      "[torch.cuda.LongTensor of size 21 (GPU 0)]\n",
      "\n",
      "unk forget bath irresponsible coincidence dead dead brooklyn brooklyn yahoo aaron metal hit kit narrative weve penn dead dead brooklyn cutest\n",
      "yeah dude i would definitely consider a daniel unk super reliable and they are just bad ass EOS _ _ _\n"
     ]
    }
   ],
   "source": [
    "print(predictions)\n",
    "print(arr2sent(predictions.cpu().data.numpy()))\n",
    "print(arr2sent(test_a.cpu().data.numpy()))"
   ]
  },
  {
   "cell_type": "markdown",
   "metadata": {},
   "source": [
    " "
   ]
  },
  {
   "cell_type": "markdown",
   "metadata": {},
   "source": [
    " "
   ]
  },
  {
   "cell_type": "markdown",
   "metadata": {},
   "source": [
    " "
   ]
  },
  {
   "cell_type": "markdown",
   "metadata": {},
   "source": [
    " "
   ]
  },
  {
   "cell_type": "markdown",
   "metadata": {},
   "source": [
    " "
   ]
  },
  {
   "cell_type": "markdown",
   "metadata": {},
   "source": [
    " "
   ]
  },
  {
   "cell_type": "markdown",
   "metadata": {},
   "source": [
    " "
   ]
  },
  {
   "cell_type": "markdown",
   "metadata": {},
   "source": [
    " "
   ]
  },
  {
   "cell_type": "markdown",
   "metadata": {},
   "source": [
    " "
   ]
  },
  {
   "cell_type": "markdown",
   "metadata": {},
   "source": [
    " "
   ]
  },
  {
   "cell_type": "markdown",
   "metadata": {},
   "source": [
    " "
   ]
  },
  {
   "cell_type": "markdown",
   "metadata": {},
   "source": [
    " "
   ]
  },
  {
   "cell_type": "markdown",
   "metadata": {},
   "source": [
    " "
   ]
  },
  {
   "cell_type": "markdown",
   "metadata": {},
   "source": [
    " "
   ]
  },
  {
   "cell_type": "markdown",
   "metadata": {},
   "source": [
    " "
   ]
  },
  {
   "cell_type": "markdown",
   "metadata": {},
   "source": [
    " "
   ]
  },
  {
   "cell_type": "markdown",
   "metadata": {},
   "source": [
    " "
   ]
  },
  {
   "cell_type": "markdown",
   "metadata": {},
   "source": [
    " "
   ]
  },
  {
   "cell_type": "markdown",
   "metadata": {},
   "source": [
    " "
   ]
  },
  {
   "cell_type": "markdown",
   "metadata": {},
   "source": [
    " "
   ]
  },
  {
   "cell_type": "markdown",
   "metadata": {},
   "source": [
    " "
   ]
  },
  {
   "cell_type": "markdown",
   "metadata": {},
   "source": [
    " "
   ]
  },
  {
   "cell_type": "markdown",
   "metadata": {},
   "source": [
    " "
   ]
  },
  {
   "cell_type": "markdown",
   "metadata": {},
   "source": [
    " "
   ]
  },
  {
   "cell_type": "markdown",
   "metadata": {},
   "source": [
    " "
   ]
  },
  {
   "cell_type": "markdown",
   "metadata": {},
   "source": [
    " "
   ]
  },
  {
   "cell_type": "markdown",
   "metadata": {},
   "source": [
    " "
   ]
  },
  {
   "cell_type": "markdown",
   "metadata": {},
   "source": [
    " "
   ]
  },
  {
   "cell_type": "markdown",
   "metadata": {},
   "source": [
    " "
   ]
  },
  {
   "cell_type": "markdown",
   "metadata": {},
   "source": [
    " "
   ]
  },
  {
   "cell_type": "markdown",
   "metadata": {},
   "source": [
    " "
   ]
  }
 ],
 "metadata": {
  "kernelspec": {
   "display_name": "Python 3",
   "language": "python",
   "name": "python3"
  },
  "language_info": {
   "codemirror_mode": {
    "name": "ipython",
    "version": 3
   },
   "file_extension": ".py",
   "mimetype": "text/x-python",
   "name": "python",
   "nbconvert_exporter": "python",
   "pygments_lexer": "ipython3",
   "version": "3.5.2"
  }
 },
 "nbformat": 4,
 "nbformat_minor": 2
}
