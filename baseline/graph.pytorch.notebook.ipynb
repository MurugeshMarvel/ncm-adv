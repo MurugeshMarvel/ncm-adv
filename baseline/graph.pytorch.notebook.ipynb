{
 "cells": [
  {
   "cell_type": "markdown",
   "metadata": {},
   "source": [
    "# STATIC GRAPH"
   ]
  },
  {
   "cell_type": "code",
   "execution_count": 55,
   "metadata": {
    "collapsed": true
   },
   "outputs": [],
   "source": [
    "import torch\n",
    "from torch import nn\n",
    "import torch.nn.functional as F\n",
    "from torch import optim\n",
    "from torch.autograd import Variable\n"
   ]
  },
  {
   "cell_type": "markdown",
   "metadata": {},
   "source": [
    "## DATA"
   ]
  },
  {
   "cell_type": "code",
   "execution_count": 56,
   "metadata": {
    "collapsed": true
   },
   "outputs": [],
   "source": [
    "import data_utils\n",
    "metadata, idx_q, idx_a = data_utils.load_data('../data/')"
   ]
  },
  {
   "cell_type": "code",
   "execution_count": 57,
   "metadata": {
    "collapsed": true
   },
   "outputs": [],
   "source": [
    "# add special symbol\n",
    "i2w = metadata['idx2w'] + ['GO']\n",
    "w2i = metadata['w2idx']\n",
    "w2i['GO'] = len(i2w)-1"
   ]
  },
  {
   "cell_type": "markdown",
   "metadata": {},
   "source": [
    "## Parameters"
   ]
  },
  {
   "cell_type": "code",
   "execution_count": 282,
   "metadata": {},
   "outputs": [],
   "source": [
    "batch_size = 128\n",
    "L = len(idx_q[0])\n",
    "vocab_size = len(i2w)\n",
    "hidden_size = 256"
   ]
  },
  {
   "cell_type": "code",
   "execution_count": 84,
   "metadata": {},
   "outputs": [],
   "source": [
    "class Config:\n",
    "    pass\n",
    "\n",
    "config = Config()\n",
    "config.printsize = True"
   ]
  },
  {
   "cell_type": "code",
   "execution_count": 169,
   "metadata": {},
   "outputs": [
    {
     "data": {
      "text/plain": [
       "267518"
      ]
     },
     "execution_count": 169,
     "metadata": {},
     "output_type": "execute_result"
    }
   ],
   "source": [
    "len(idx_q)"
   ]
  },
  {
   "cell_type": "markdown",
   "metadata": {},
   "source": [
    "\n",
    "## Graph"
   ]
  },
  {
   "cell_type": "code",
   "execution_count": 444,
   "metadata": {},
   "outputs": [],
   "source": [
    "def initial_state(batch_size, hidden_size):\n",
    "    state = torch.zeros([batch_size, hidden_size])\n",
    "    return Variable(state.cuda())\n",
    "\n",
    "def psize(name, variable):\n",
    "    if config.printsize:\n",
    "        print(name, variable.size(), type(variable.data))\n",
    "        \n",
    "class Encoder(nn.Module):\n",
    "    def __init__(self, vocab_size, hidden_size):\n",
    "        super(Encoder, self).__init__()\n",
    "        \n",
    "        self.vocab_size = vocab_size\n",
    "        self.hidden_size = hidden_size\n",
    "                \n",
    "        self.embed = nn.Embedding(vocab_size, hidden_size)\n",
    "        self.encode = nn.LSTMCell(hidden_size, hidden_size)\n",
    "            \n",
    "    def forward(self, enc_inputs, hidden, batch_size):\n",
    "        input_length = enc_inputs.size()[0]\n",
    "        psize('enc_inputs', enc_inputs)\n",
    "        enc_embeddings = self.embed(enc_inputs)\n",
    "        psize('enc_embeddings', enc_embeddings)\n",
    "        enc_embeddings = enc_embeddings.view(input_length, \n",
    "                                            batch_size, \n",
    "                                            hidden_size)            #LxBxH       \n",
    "                \n",
    "        psize('enc_embeddings', enc_embeddings)        \n",
    "        hidden, cell_state = hidden\n",
    "        for i in range(enc_embeddings.size()[0]):\n",
    "            hidden, cell_state = self.encode(enc_embeddings[i], (hidden, cell_state))\n",
    "            \n",
    "        return hidden, cell_state\n",
    "    \n",
    "class Decoder(nn.Module):\n",
    "    def __init__(self, vocab_size, hidden_size):\n",
    "        super(Decoder, self).__init__()\n",
    "        \n",
    "        self.vocab_size = vocab_size\n",
    "        self.hidden_size = hidden_size\n",
    "        \n",
    "        self.decode = nn.LSTMCell(hidden_size, hidden_size)\n",
    "        self.embed = nn.Embedding(vocab_size, hidden_size)\n",
    "        self.project = nn.Linear(hidden_size, vocab_size)\n",
    "        \n",
    "    def forward(self, outputs, hidden, batch_size):\n",
    "        length = outputs.size()[0]\n",
    "        psize('hidden', hidden[0]), psize('hidden', hidden[1])\n",
    "        predicted_outputs = []\n",
    "    \n",
    "        dec_embeddings = self.embed(outputs).view(length,\n",
    "                                                 batch_size,\n",
    "                                                 hidden_size)           #LxBxH\n",
    "    \n",
    "        GO = torch.LongTensor([w2i['GO']] * batch_size).cuda()            \n",
    "        GO = Variable(GO)\n",
    "        psize('GO', GO)\n",
    "        GO_emb = self.embed(GO)\n",
    "        psize('GO_emd', GO_emb)\n",
    "        \n",
    "        hidden, cell_state = self.decode(GO_emb, hidden)\n",
    "        predicted_outputs.append(hidden)\n",
    "        for i in range(length - 1):\n",
    "            import random\n",
    "            if random.random() > 0:\n",
    "                dec_input = dec_embeddings[i+1]\n",
    "            else:\n",
    "                dec_input = hidden\n",
    "            hidden, cell_state = self.decode(dec_input, (hidden, cell_state))\n",
    "            predicted_outputs.append(hidden)\n",
    "            \n",
    "        predicted_outputs = torch.stack(predicted_outputs).squeeze(1)\n",
    "        psize('predicted_outputs', predicted_outputs)\n",
    "              \n",
    "        predicted_outputs = self.project(predicted_outputs.view(length*batch_size, hidden_size))\n",
    "        psize('predicted_outputs', predicted_outputs)\n",
    "        predicted_outputs = predicted_outputs.view(length, batch_size, vocab_size)\n",
    "        psize('predicted_outputs', predicted_outputs)\n",
    "\n",
    "        return predicted_outputs\n",
    "    \n",
    "    def predict(self, outputs, hidden, batch_size):\n",
    "        length = outputs.size()[0]\n",
    "        psize('hidden', hidden[0]), psize('hidden', hidden[1])\n",
    "        predicted_outputs = []\n",
    "    \n",
    "        dec_embeddings = self.embed(outputs).view(length,\n",
    "                                                 batch_size,\n",
    "                                                 hidden_size)           #LxBxH\n",
    "    \n",
    "        GO = torch.LongTensor([w2i['GO']] * batch_size).cuda()            \n",
    "        GO = Variable(GO)\n",
    "        psize('GO', GO)\n",
    "        GO_emb = self.embed(GO)\n",
    "        psize('GO_emd', GO_emb)\n",
    "        \n",
    "        hidden, cell_state = self.decode(GO_emb, hidden)\n",
    "        predicted_outputs.append(hidden)\n",
    "        for i in range(length - 1):\n",
    "            dec_input = hidden\n",
    "            hidden, cell_state = self.decode(dec_input, (hidden, cell_state))\n",
    "            predicted_outputs.append(hidden)\n",
    "            \n",
    "        predicted_outputs = torch.stack(predicted_outputs).squeeze(1)\n",
    "        psize('predicted_outputs', predicted_outputs)\n",
    "        \n",
    "        predicted_outputs = self.project(predicted_outputs.view(length*batch_size, \n",
    "                                                                hidden_size))\n",
    "        psize('predicted_outputs', predicted_outputs)\n",
    "        predicted_outputs = predicted_outputs.view(length, batch_size, vocab_size)\n",
    "\n",
    "        return predicted_outputs\n",
    "    "
   ]
  },
  {
   "cell_type": "markdown",
   "metadata": {},
   "source": [
    "# TRAINING"
   ]
  },
  {
   "cell_type": "code",
   "execution_count": 442,
   "metadata": {},
   "outputs": [],
   "source": [
    "from pprint import pprint\n",
    "from tqdm import tqdm\n",
    "def train_epochs(epochs, encoder, decoder, eoptim, doptim, criterion, print_every=1):\n",
    "    model.train()\n",
    "    losses = []\n",
    "    config.printsize = True\n",
    "\n",
    "    for epoch in tqdm(range(epochs+1)):\n",
    "        loss = train(encoder, decoder, eoptim, doptim, criterion, idx_q[:30000], idx_a[:30000],\n",
    "                    print_every=print_every*100)    \n",
    "        if epoch % print_every == 0:\n",
    "            losses.append(loss)\n",
    "            print('{} - loss: {}'.format(epoch, loss))\n",
    "\n",
    "        \n",
    "def train(encoder, decoder, eoptim, doptim, criterion, question_ids, answer_ids, print_every=100):\n",
    "    input_length = len(question_ids[0])\n",
    "    for batch_index in range(len(idx_q)):\n",
    "        l,r = batch_index * batch_size, (batch_index + 1) * batch_size\n",
    "        \n",
    "        question_id, answer_id = question_ids[l:r], answer_ids[l:r]\n",
    "        _batch_size = len(question_id)\n",
    "        if _batch_size != batch_size:\n",
    "            print('breaking because batch sizes do not match')\n",
    "            break\n",
    "\n",
    "        data = Variable(torch.from_numpy(question_id).long().cuda().t())\n",
    "        target = Variable(torch.from_numpy(answer_id).long().cuda().t())\n",
    "\n",
    "        eoptim.zero_grad(), doptim.zero_grad()    \n",
    "        initial_hidden = initial_state(batch_size, hidden_size).cuda(), initial_state(batch_size, hidden_size).cuda()\n",
    "        \n",
    "        encoder_output = encoder(data, initial_hidden, _batch_size)\n",
    "        decoder_output = decoder(target, encoder_output, _batch_size)\n",
    "        loss = 0\n",
    "        for i in range(input_length):\n",
    "            logits = F.log_softmax(decoder_output[i])\n",
    "            loss += criterion(logits, target[i])    \n",
    "            \n",
    "        loss.backward()\n",
    "        eoptim.step(), doptim.step()\n",
    "        config.printsize = False\n",
    "        \n",
    "        if batch_index % print_every == 0:\n",
    "            print('\\t{} - loss: {}'.format(batch_index, loss.data[0]))\n",
    "        \n",
    "    return loss.data[0]"
   ]
  },
  {
   "cell_type": "code",
   "execution_count": 407,
   "metadata": {},
   "outputs": [],
   "source": [
    "encoder = Encoder(vocab_size, hidden_size)\n",
    "decoder = Decoder(vocab_size, hidden_size)\n",
    "\n",
    "encoder.cuda()\n",
    "decoder.cuda()\n",
    "\n",
    "criterion = nn.NLLLoss()\n",
    "\n",
    "eoptim = optim.SGD(encoder.parameters(), lr=0.1, momentum=0.1)\n",
    "doptim = optim.SGD(decoder.parameters(), lr=0.1, momentum=0.1)"
   ]
  },
  {
   "cell_type": "code",
   "execution_count": 434,
   "metadata": {
    "scrolled": false
   },
   "outputs": [
    {
     "name": "stderr",
     "output_type": "stream",
     "text": [
      "\r",
      "  0%|          | 0/11 [00:00<?, ?it/s]"
     ]
    },
    {
     "name": "stdout",
     "output_type": "stream",
     "text": [
      "enc_inputs torch.Size([21, 128]) <class 'torch.cuda.LongTensor'>\n",
      "enc_embeddings torch.Size([21, 128, 256]) <class 'torch.cuda.FloatTensor'>\n",
      "enc_embeddings torch.Size([21, 128, 256]) <class 'torch.cuda.FloatTensor'>\n",
      "hidden torch.Size([128, 256]) <class 'torch.cuda.FloatTensor'>\n",
      "hidden torch.Size([128, 256]) <class 'torch.cuda.FloatTensor'>\n",
      "GO torch.Size([128]) <class 'torch.cuda.LongTensor'>\n",
      "GO_emd torch.Size([128, 256]) <class 'torch.cuda.FloatTensor'>\n",
      "predicted_outputs torch.Size([21, 128, 256]) <class 'torch.cuda.FloatTensor'>\n",
      "predicted_outputs torch.Size([2688, 6005]) <class 'torch.cuda.FloatTensor'>\n",
      "predicted_outputs torch.Size([21, 128, 6005]) <class 'torch.cuda.FloatTensor'>\n",
      "\t0 - loss: 1.3411242961883545\n",
      "\t100 - loss: 1.3380681276321411\n",
      "\t200 - loss: 1.3729528188705444\n"
     ]
    },
    {
     "name": "stderr",
     "output_type": "stream",
     "text": [
      "\r",
      "  9%|▉         | 1/11 [00:21<03:33, 21.34s/it]"
     ]
    },
    {
     "name": "stdout",
     "output_type": "stream",
     "text": [
      "breaking because batch sizes do not match\n",
      "0 - loss: 1.544586420059204\n",
      "\t0 - loss: 1.3162250518798828\n",
      "\t100 - loss: 1.3365718126296997\n",
      "\t200 - loss: 1.1995617151260376\n"
     ]
    },
    {
     "name": "stderr",
     "output_type": "stream",
     "text": [
      "\r",
      " 18%|█▊        | 2/11 [00:43<03:13, 21.54s/it]"
     ]
    },
    {
     "name": "stdout",
     "output_type": "stream",
     "text": [
      "breaking because batch sizes do not match\n",
      "1 - loss: 1.3850281238555908\n",
      "\t0 - loss: 1.209272861480713\n",
      "\t100 - loss: 1.1428279876708984\n",
      "\t200 - loss: 1.070444107055664\n"
     ]
    },
    {
     "name": "stderr",
     "output_type": "stream",
     "text": [
      "\r",
      " 27%|██▋       | 3/11 [01:05<02:53, 21.68s/it]"
     ]
    },
    {
     "name": "stdout",
     "output_type": "stream",
     "text": [
      "breaking because batch sizes do not match\n",
      "2 - loss: 1.2881885766983032\n",
      "\t0 - loss: 1.199554204940796\n",
      "\t100 - loss: 1.1904761791229248\n",
      "\t200 - loss: 1.1714420318603516\n"
     ]
    },
    {
     "name": "stderr",
     "output_type": "stream",
     "text": [
      "\r",
      " 36%|███▋      | 4/11 [01:27<02:32, 21.78s/it]"
     ]
    },
    {
     "name": "stdout",
     "output_type": "stream",
     "text": [
      "breaking because batch sizes do not match\n",
      "3 - loss: 1.2804590463638306\n",
      "\t0 - loss: 1.099460244178772\n",
      "\t100 - loss: 1.082923173904419\n",
      "\t200 - loss: 1.1439708471298218\n"
     ]
    },
    {
     "name": "stderr",
     "output_type": "stream",
     "text": [
      "\r",
      " 45%|████▌     | 5/11 [01:49<02:11, 21.88s/it]"
     ]
    },
    {
     "name": "stdout",
     "output_type": "stream",
     "text": [
      "breaking because batch sizes do not match\n",
      "4 - loss: 1.1584521532058716\n",
      "\t0 - loss: 1.008824348449707\n",
      "\t100 - loss: 1.0420303344726562\n",
      "\t200 - loss: 1.0742990970611572\n"
     ]
    },
    {
     "name": "stderr",
     "output_type": "stream",
     "text": [
      "\r",
      " 55%|█████▍    | 6/11 [02:11<01:49, 21.91s/it]"
     ]
    },
    {
     "name": "stdout",
     "output_type": "stream",
     "text": [
      "breaking because batch sizes do not match\n",
      "5 - loss: 1.2309650182724\n",
      "\t0 - loss: 1.077671766281128\n",
      "\t100 - loss: 1.1084177494049072\n",
      "\t200 - loss: 1.0507218837738037\n"
     ]
    },
    {
     "name": "stderr",
     "output_type": "stream",
     "text": [
      "\r",
      " 64%|██████▎   | 7/11 [02:33<01:27, 21.90s/it]"
     ]
    },
    {
     "name": "stdout",
     "output_type": "stream",
     "text": [
      "breaking because batch sizes do not match\n",
      "6 - loss: 1.37307608127594\n",
      "\t0 - loss: 1.2246034145355225\n",
      "\t100 - loss: 1.0969810485839844\n",
      "\t200 - loss: 1.0633491277694702\n"
     ]
    },
    {
     "name": "stderr",
     "output_type": "stream",
     "text": [
      "\r",
      " 73%|███████▎  | 8/11 [02:55<01:05, 21.91s/it]"
     ]
    },
    {
     "name": "stdout",
     "output_type": "stream",
     "text": [
      "breaking because batch sizes do not match\n",
      "7 - loss: 1.16168212890625\n",
      "\t0 - loss: 1.0008502006530762\n",
      "\t100 - loss: 0.998125433921814\n",
      "\t200 - loss: 0.9589577913284302\n"
     ]
    },
    {
     "name": "stderr",
     "output_type": "stream",
     "text": [
      "\r",
      " 82%|████████▏ | 9/11 [03:17<00:43, 21.93s/it]"
     ]
    },
    {
     "name": "stdout",
     "output_type": "stream",
     "text": [
      "breaking because batch sizes do not match\n",
      "8 - loss: 1.0832334756851196\n",
      "\t0 - loss: 0.9744068384170532\n",
      "\t100 - loss: 1.0879734754562378\n",
      "\t200 - loss: 1.1067527532577515\n"
     ]
    },
    {
     "name": "stderr",
     "output_type": "stream",
     "text": [
      "\r",
      " 91%|█████████ | 10/11 [03:39<00:21, 21.93s/it]"
     ]
    },
    {
     "name": "stdout",
     "output_type": "stream",
     "text": [
      "breaking because batch sizes do not match\n",
      "9 - loss: 1.1511907577514648\n",
      "\t0 - loss: 1.045896291732788\n",
      "\t100 - loss: 0.9164615869522095\n",
      "\t200 - loss: 0.9757237434387207\n"
     ]
    },
    {
     "name": "stderr",
     "output_type": "stream",
     "text": [
      "\r",
      "100%|██████████| 11/11 [04:01<00:00, 21.96s/it]"
     ]
    },
    {
     "name": "stdout",
     "output_type": "stream",
     "text": [
      "breaking because batch sizes do not match\n",
      "10 - loss: 1.0804495811462402\n"
     ]
    },
    {
     "name": "stderr",
     "output_type": "stream",
     "text": [
      "\n"
     ]
    }
   ],
   "source": [
    "train_epochs(10, encoder, decoder, eoptim, doptim, criterion,)"
   ]
  },
  {
   "cell_type": "code",
   "execution_count": 433,
   "metadata": {},
   "outputs": [],
   "source": [
    "torch.save(encoder.state_dict(), 'graph.pytorch.encoder.pth')\n",
    "torch.save(decoder.state_dict(), 'graph.pytorch.decoder.pth')"
   ]
  },
  {
   "cell_type": "markdown",
   "metadata": {},
   "source": [
    "## Test"
   ]
  },
  {
   "cell_type": "code",
   "execution_count": 446,
   "metadata": {
    "collapsed": true
   },
   "outputs": [],
   "source": [
    "encoder_test = Encoder(vocab_size, hidden_size)\n",
    "decoder_test = Decoder(vocab_size, hidden_size)\n",
    "encoder_test.cuda()\n",
    "decoder_test.cuda()\n",
    "encoder_test.load_state_dict(torch.load('graph.pytorch.encoder.pth'))\n",
    "decoder_test.load_state_dict(torch.load('graph.pytorch.decoder.pth'))"
   ]
  },
  {
   "cell_type": "code",
   "execution_count": 447,
   "metadata": {},
   "outputs": [
    {
     "name": "stdout",
     "output_type": "stream",
     "text": [
      "enc_inputs torch.Size([21]) <class 'torch.cuda.LongTensor'>\n",
      "enc_embeddings torch.Size([21, 256]) <class 'torch.cuda.FloatTensor'>\n",
      "enc_embeddings torch.Size([21, 1, 256]) <class 'torch.cuda.FloatTensor'>\n",
      "hidden torch.Size([1, 256]) <class 'torch.cuda.FloatTensor'>\n",
      "hidden torch.Size([1, 256]) <class 'torch.cuda.FloatTensor'>\n",
      "GO torch.Size([1]) <class 'torch.cuda.LongTensor'>\n",
      "GO_emd torch.Size([1, 256]) <class 'torch.cuda.FloatTensor'>\n",
      "predicted_outputs torch.Size([21, 256]) <class 'torch.cuda.FloatTensor'>\n",
      "predicted_outputs torch.Size([21, 6005]) <class 'torch.cuda.FloatTensor'>\n"
     ]
    }
   ],
   "source": [
    "batch = 0\n",
    "l, r = batch * B, (batch + 1) * B\n",
    "test_q, test_a = idx_q[0], idx_a[0]\n",
    "\n",
    "encoder_test.eval()\n",
    "decoder_test.eval()\n",
    "\n",
    "test_q = Variable(torch.from_numpy(test_q).long().cuda())\n",
    "test_a = Variable(torch.from_numpy(test_a).long().cuda())\n",
    "\n",
    "config.printsize = True\n",
    "batch_size = 1\n",
    "hidden = initial_state(batch_size, hidden_size).cuda(), initial_state(batch_size, hidden_size).cuda()\n",
    "predictions = decoder_test.predict(test_a, encoder_test(test_q, hidden, 1), 1)\n",
    "predictions = F.log_softmax(predictions).max(1)[1].squeeze(1)\n"
   ]
  },
  {
   "cell_type": "code",
   "execution_count": 216,
   "metadata": {
    "collapsed": true
   },
   "outputs": [],
   "source": [
    "def arr2sent(arr):\n",
    "    return ' '.join([i2w[item] for item in arr])"
   ]
  },
  {
   "cell_type": "code",
   "execution_count": 448,
   "metadata": {},
   "outputs": [
    {
     "name": "stdout",
     "output_type": "stream",
     "text": [
      "Variable containing:\n",
      "    0     0     0  ...      0     0     0\n",
      "    0     0     0  ...      0     0     0\n",
      "    0     0     0  ...      0     0     0\n",
      "       ...          ⋱          ...       \n",
      "    0     0     0  ...      0     0     0\n",
      "    0     0     0  ...      0     0     0\n",
      "    0     0     0  ...      0     0     0\n",
      "[torch.cuda.LongTensor of size 21x6005 (GPU 0)]\n",
      "\n"
     ]
    },
    {
     "ename": "TypeError",
     "evalue": "only integer scalar arrays can be converted to a scalar index",
     "output_type": "error",
     "traceback": [
      "\u001b[0;31m---------------------------------------------------------------------------\u001b[0m",
      "\u001b[0;31mTypeError\u001b[0m                                 Traceback (most recent call last)",
      "\u001b[0;32m<ipython-input-448-b48c592e87b3>\u001b[0m in \u001b[0;36m<module>\u001b[0;34m()\u001b[0m\n\u001b[1;32m      1\u001b[0m \u001b[0mprint\u001b[0m\u001b[0;34m(\u001b[0m\u001b[0mpredictions\u001b[0m\u001b[0;34m)\u001b[0m\u001b[0;34m\u001b[0m\u001b[0m\n\u001b[0;32m----> 2\u001b[0;31m \u001b[0mprint\u001b[0m\u001b[0;34m(\u001b[0m\u001b[0marr2sent\u001b[0m\u001b[0;34m(\u001b[0m\u001b[0mpredictions\u001b[0m\u001b[0;34m.\u001b[0m\u001b[0mcpu\u001b[0m\u001b[0;34m(\u001b[0m\u001b[0;34m)\u001b[0m\u001b[0;34m.\u001b[0m\u001b[0mdata\u001b[0m\u001b[0;34m.\u001b[0m\u001b[0mnumpy\u001b[0m\u001b[0;34m(\u001b[0m\u001b[0;34m)\u001b[0m\u001b[0;34m)\u001b[0m\u001b[0;34m)\u001b[0m\u001b[0;34m\u001b[0m\u001b[0m\n\u001b[0m\u001b[1;32m      3\u001b[0m \u001b[0mprint\u001b[0m\u001b[0;34m(\u001b[0m\u001b[0marr2sent\u001b[0m\u001b[0;34m(\u001b[0m\u001b[0mtest_a\u001b[0m\u001b[0;34m.\u001b[0m\u001b[0mcpu\u001b[0m\u001b[0;34m(\u001b[0m\u001b[0;34m)\u001b[0m\u001b[0;34m.\u001b[0m\u001b[0mdata\u001b[0m\u001b[0;34m.\u001b[0m\u001b[0mnumpy\u001b[0m\u001b[0;34m(\u001b[0m\u001b[0;34m)\u001b[0m\u001b[0;34m)\u001b[0m\u001b[0;34m)\u001b[0m\u001b[0;34m\u001b[0m\u001b[0m\n",
      "\u001b[0;32m<ipython-input-216-5ce5a83f4448>\u001b[0m in \u001b[0;36marr2sent\u001b[0;34m(arr)\u001b[0m\n\u001b[1;32m      1\u001b[0m \u001b[0;32mdef\u001b[0m \u001b[0marr2sent\u001b[0m\u001b[0;34m(\u001b[0m\u001b[0marr\u001b[0m\u001b[0;34m)\u001b[0m\u001b[0;34m:\u001b[0m\u001b[0;34m\u001b[0m\u001b[0m\n\u001b[0;32m----> 2\u001b[0;31m     \u001b[0;32mreturn\u001b[0m \u001b[0;34m' '\u001b[0m\u001b[0;34m.\u001b[0m\u001b[0mjoin\u001b[0m\u001b[0;34m(\u001b[0m\u001b[0;34m[\u001b[0m\u001b[0mi2w\u001b[0m\u001b[0;34m[\u001b[0m\u001b[0mitem\u001b[0m\u001b[0;34m]\u001b[0m \u001b[0;32mfor\u001b[0m \u001b[0mitem\u001b[0m \u001b[0;32min\u001b[0m \u001b[0marr\u001b[0m\u001b[0;34m]\u001b[0m\u001b[0;34m)\u001b[0m\u001b[0;34m\u001b[0m\u001b[0m\n\u001b[0m",
      "\u001b[0;32m<ipython-input-216-5ce5a83f4448>\u001b[0m in \u001b[0;36m<listcomp>\u001b[0;34m(.0)\u001b[0m\n\u001b[1;32m      1\u001b[0m \u001b[0;32mdef\u001b[0m \u001b[0marr2sent\u001b[0m\u001b[0;34m(\u001b[0m\u001b[0marr\u001b[0m\u001b[0;34m)\u001b[0m\u001b[0;34m:\u001b[0m\u001b[0;34m\u001b[0m\u001b[0m\n\u001b[0;32m----> 2\u001b[0;31m     \u001b[0;32mreturn\u001b[0m \u001b[0;34m' '\u001b[0m\u001b[0;34m.\u001b[0m\u001b[0mjoin\u001b[0m\u001b[0;34m(\u001b[0m\u001b[0;34m[\u001b[0m\u001b[0mi2w\u001b[0m\u001b[0;34m[\u001b[0m\u001b[0mitem\u001b[0m\u001b[0;34m]\u001b[0m \u001b[0;32mfor\u001b[0m \u001b[0mitem\u001b[0m \u001b[0;32min\u001b[0m \u001b[0marr\u001b[0m\u001b[0;34m]\u001b[0m\u001b[0;34m)\u001b[0m\u001b[0;34m\u001b[0m\u001b[0m\n\u001b[0m",
      "\u001b[0;31mTypeError\u001b[0m: only integer scalar arrays can be converted to a scalar index"
     ]
    }
   ],
   "source": [
    "print(predictions)\n",
    "print(arr2sent(predictions.cpu().data.numpy()))\n",
    "print(arr2sent(test_a.cpu().data.numpy()))"
   ]
  },
  {
   "cell_type": "code",
   "execution_count": 394,
   "metadata": {},
   "outputs": [
    {
     "name": "stdout",
     "output_type": "stream",
     "text": [
      "Variable containing:\n",
      "-6.0667 -4.0667 -3.0667 -1.0667\n",
      "[torch.FloatTensor of size 1x4]\n",
      "\n"
     ]
    }
   ],
   "source": [
    "x = torch.Tensor([[1,2, 2, 3],[1,2,3,4]])\n",
    "_ = Variable\n",
    "print(F.log_softmax(_(x)).sum(0))"
   ]
  },
  {
   "cell_type": "markdown",
   "metadata": {},
   "source": [
    " "
   ]
  },
  {
   "cell_type": "markdown",
   "metadata": {},
   "source": [
    " "
   ]
  },
  {
   "cell_type": "markdown",
   "metadata": {},
   "source": [
    " "
   ]
  },
  {
   "cell_type": "markdown",
   "metadata": {},
   "source": [
    " "
   ]
  },
  {
   "cell_type": "markdown",
   "metadata": {},
   "source": [
    " "
   ]
  },
  {
   "cell_type": "markdown",
   "metadata": {},
   "source": [
    " "
   ]
  },
  {
   "cell_type": "markdown",
   "metadata": {},
   "source": [
    " "
   ]
  },
  {
   "cell_type": "markdown",
   "metadata": {},
   "source": [
    " "
   ]
  },
  {
   "cell_type": "markdown",
   "metadata": {},
   "source": [
    " "
   ]
  },
  {
   "cell_type": "markdown",
   "metadata": {},
   "source": [
    " "
   ]
  },
  {
   "cell_type": "markdown",
   "metadata": {},
   "source": [
    " "
   ]
  },
  {
   "cell_type": "markdown",
   "metadata": {},
   "source": [
    " "
   ]
  },
  {
   "cell_type": "markdown",
   "metadata": {},
   "source": [
    " "
   ]
  },
  {
   "cell_type": "markdown",
   "metadata": {},
   "source": [
    " "
   ]
  },
  {
   "cell_type": "markdown",
   "metadata": {},
   "source": [
    " "
   ]
  },
  {
   "cell_type": "markdown",
   "metadata": {},
   "source": [
    " "
   ]
  },
  {
   "cell_type": "markdown",
   "metadata": {},
   "source": [
    " "
   ]
  },
  {
   "cell_type": "markdown",
   "metadata": {},
   "source": [
    " "
   ]
  },
  {
   "cell_type": "markdown",
   "metadata": {},
   "source": [
    " "
   ]
  },
  {
   "cell_type": "markdown",
   "metadata": {},
   "source": [
    " "
   ]
  },
  {
   "cell_type": "markdown",
   "metadata": {},
   "source": [
    " "
   ]
  },
  {
   "cell_type": "markdown",
   "metadata": {},
   "source": [
    " "
   ]
  },
  {
   "cell_type": "markdown",
   "metadata": {},
   "source": [
    " "
   ]
  },
  {
   "cell_type": "markdown",
   "metadata": {},
   "source": [
    " "
   ]
  },
  {
   "cell_type": "markdown",
   "metadata": {},
   "source": [
    " "
   ]
  },
  {
   "cell_type": "markdown",
   "metadata": {},
   "source": [
    " "
   ]
  },
  {
   "cell_type": "markdown",
   "metadata": {},
   "source": [
    " "
   ]
  },
  {
   "cell_type": "markdown",
   "metadata": {},
   "source": [
    " "
   ]
  },
  {
   "cell_type": "markdown",
   "metadata": {},
   "source": [
    " "
   ]
  },
  {
   "cell_type": "markdown",
   "metadata": {},
   "source": [
    " "
   ]
  },
  {
   "cell_type": "markdown",
   "metadata": {},
   "source": [
    " "
   ]
  }
 ],
 "metadata": {
  "kernelspec": {
   "display_name": "Python 3",
   "language": "python",
   "name": "python3"
  },
  "language_info": {
   "codemirror_mode": {
    "name": "ipython",
    "version": 3
   },
   "file_extension": ".py",
   "mimetype": "text/x-python",
   "name": "python",
   "nbconvert_exporter": "python",
   "pygments_lexer": "ipython3",
   "version": "3.5.2"
  }
 },
 "nbformat": 4,
 "nbformat_minor": 2
}
