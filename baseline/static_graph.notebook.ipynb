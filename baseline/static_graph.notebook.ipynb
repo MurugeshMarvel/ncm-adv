{
 "cells": [
  {
   "cell_type": "markdown",
   "metadata": {},
   "source": [
    "# STATIC GRAPH"
   ]
  },
  {
   "cell_type": "code",
   "execution_count": 1,
   "metadata": {
    "collapsed": true
   },
   "outputs": [],
   "source": [
    "import tensorflow as tf\n",
    "from tensorflow.contrib.layers import xavier_initializer as xinit"
   ]
  },
  {
   "cell_type": "markdown",
   "metadata": {},
   "source": [
    "## DATA"
   ]
  },
  {
   "cell_type": "code",
   "execution_count": 2,
   "metadata": {
    "collapsed": true
   },
   "outputs": [],
   "source": [
    "import data_utils\n",
    "metadata, idx_q, idx_a = data_utils.load_data('../data/')"
   ]
  },
  {
   "cell_type": "code",
   "execution_count": 3,
   "metadata": {
    "collapsed": true
   },
   "outputs": [],
   "source": [
    "# add special symbol\n",
    "i2w = metadata['idx2w'] + ['GO']\n",
    "w2i = metadata['w2idx']\n",
    "w2i['GO'] = len(i2w)-1"
   ]
  },
  {
   "cell_type": "markdown",
   "metadata": {},
   "source": [
    "## Parameters"
   ]
  },
  {
   "cell_type": "code",
   "execution_count": 4,
   "metadata": {
    "collapsed": true
   },
   "outputs": [],
   "source": [
    "B = 500\n",
    "L = len(idx_q[0])\n",
    "vocab_size = len(i2w)\n",
    "enc_hdim = 250\n",
    "dec_hdim = enc_hdim"
   ]
  },
  {
   "cell_type": "markdown",
   "metadata": {},
   "source": [
    "## Graph"
   ]
  },
  {
   "cell_type": "code",
   "execution_count": 5,
   "metadata": {
    "collapsed": true
   },
   "outputs": [],
   "source": [
    "tf.reset_default_graph()"
   ]
  },
  {
   "cell_type": "markdown",
   "metadata": {},
   "source": [
    "### Placeholders"
   ]
  },
  {
   "cell_type": "code",
   "execution_count": 6,
   "metadata": {},
   "outputs": [],
   "source": [
    "inputs = tf.placeholder(tf.int32, shape=[B,L], name='inputs')\n",
    "targets = tf.placeholder(tf.int32, shape=[B,L], name='targets')\n",
    "decoder_inputs = tf.concat(\n",
    "    values=[tf.constant(w2i['GO'], dtype=tf.int32, shape=[B,1]), targets[:, 1:]],\n",
    "    axis=1)\n",
    "training = tf.placeholder(tf.bool, name='is_training')"
   ]
  },
  {
   "cell_type": "code",
   "execution_count": 7,
   "metadata": {},
   "outputs": [
    {
     "data": {
      "text/plain": [
       "(<tf.Tensor 'concat:0' shape=(500, 20) dtype=int32>,\n",
       " <tf.Tensor 'targets:0' shape=(500, 20) dtype=int32>,\n",
       " <tf.Tensor 'inputs:0' shape=(500, 20) dtype=int32>)"
      ]
     },
     "execution_count": 7,
     "metadata": {},
     "output_type": "execute_result"
    }
   ],
   "source": [
    "decoder_inputs, targets, inputs"
   ]
  },
  {
   "cell_type": "markdown",
   "metadata": {},
   "source": [
    "## Embedding"
   ]
  },
  {
   "cell_type": "code",
   "execution_count": 8,
   "metadata": {
    "collapsed": true
   },
   "outputs": [],
   "source": [
    "emb_mat = tf.get_variable('emb', shape=[vocab_size, enc_hdim], dtype=tf.float32, \n",
    "                         initializer=xinit())\n",
    "emb_enc_inputs = tf.nn.embedding_lookup(emb_mat, inputs)\n",
    "emb_dec_inputs = tf.nn.embedding_lookup(emb_mat, decoder_inputs)"
   ]
  },
  {
   "cell_type": "markdown",
   "metadata": {},
   "source": [
    "## Encoder"
   ]
  },
  {
   "cell_type": "code",
   "execution_count": 9,
   "metadata": {
    "collapsed": true
   },
   "outputs": [],
   "source": [
    "with tf.variable_scope('encoder'):\n",
    "    encoder_cell = tf.contrib.rnn.LSTMCell(num_units=enc_hdim)\n",
    "    encoder_outputs, context = tf.nn.dynamic_rnn(cell=encoder_cell,\n",
    "                          inputs=emb_enc_inputs, \n",
    "                          initial_state =\n",
    "                                encoder_cell.zero_state(batch_size=B, dtype=tf.float32)\n",
    "                         )"
   ]
  },
  {
   "cell_type": "markdown",
   "metadata": {},
   "source": [
    "## Decoder"
   ]
  },
  {
   "cell_type": "code",
   "execution_count": 10,
   "metadata": {},
   "outputs": [],
   "source": [
    "# inference - custom rnn\n",
    "def inference_decoder(cell, state):\n",
    "    #tf.get_variable_scope().reuse_variables()\n",
    "    with tf.variable_scope('decoder_1'):\n",
    "        dec_outputs = []\n",
    "        input_ = tf.constant(w2i['GO'], dtype=tf.int32, shape=[B,])\n",
    "        input_ = tf.nn.embedding_lookup(emb_mat, input_)\n",
    "        \n",
    "        for i in range(L):\n",
    "            decoder_output, state = cell(input_, state)\n",
    "            dec_outputs.append(decoder_output)\n",
    "            input_ = decoder_output\n",
    "\n",
    "    return tf.stack(dec_outputs), None"
   ]
  },
  {
   "cell_type": "code",
   "execution_count": 11,
   "metadata": {},
   "outputs": [],
   "source": [
    "with tf.variable_scope('decoder') as scope:\n",
    "    decoder_cell = tf.contrib.rnn.LSTMCell(num_units=dec_hdim)\n",
    "    \n",
    "    decoder_outputs, _ = tf.nn.dynamic_rnn(cell=decoder_cell,\n",
    "                          inputs=emb_dec_inputs, \n",
    "                          initial_state= context,\n",
    "                          scope='decoder_1')\n",
    "                         \n",
    "    tf.get_variable_scope().reuse_variables()\n",
    "    \n",
    "    decoder_outputs_inf, _ = inference_decoder(decoder_cell, context)\n",
    "    #decoder_outputs_inf, _ = inference_decoder(decoder_cell, context)\n",
    "    '''\n",
    "    decoder_outputs_inf, _ = tf.nn.dynamic_rnn(cell=decoder_cell,\n",
    "                          inputs=emb_dec_inputs, \n",
    "                          initial_state= context\n",
    "                         )\n",
    "    '''"
   ]
  },
  {
   "cell_type": "markdown",
   "metadata": {},
   "source": [
    "## Logits and Probabilities"
   ]
  },
  {
   "cell_type": "code",
   "execution_count": 12,
   "metadata": {
    "collapsed": true
   },
   "outputs": [],
   "source": [
    "Wo = tf.get_variable('Wo', shape=[dec_hdim, vocab_size], dtype=tf.float32, \n",
    "                         initializer=xinit())\n",
    "bo = tf.get_variable('bo', shape=[vocab_size], dtype=tf.float32, \n",
    "                         initializer=xinit())\n",
    "proj_outputs = tf.matmul(tf.reshape(decoder_outputs, [B*L, dec_hdim]), Wo) + bo\n",
    "proj_outputs_inf = tf.matmul(tf.reshape(decoder_outputs_inf, [B*L, dec_hdim]), Wo) + bo\n",
    "logits = tf.reshape(proj_outputs_inf, [B, L, vocab_size])\n",
    "probs = tf.nn.softmax(logits)"
   ]
  },
  {
   "cell_type": "markdown",
   "metadata": {},
   "source": [
    "## Loss"
   ]
  },
  {
   "cell_type": "code",
   "execution_count": 13,
   "metadata": {
    "collapsed": true
   },
   "outputs": [],
   "source": [
    "cross_entropy = tf.nn.sparse_softmax_cross_entropy_with_logits(\n",
    "    logits =  tf.reshape(proj_outputs, [B, L, vocab_size]),\n",
    "    labels = targets)\n",
    "loss = tf.reduce_mean(cross_entropy)"
   ]
  },
  {
   "cell_type": "markdown",
   "metadata": {},
   "source": [
    "## Optimizatin"
   ]
  },
  {
   "cell_type": "code",
   "execution_count": 14,
   "metadata": {
    "collapsed": true
   },
   "outputs": [],
   "source": [
    "optimizer = tf.train.AdamOptimizer(learning_rate=0.01)\n",
    "train_op = optimizer.minimize(loss)"
   ]
  },
  {
   "cell_type": "markdown",
   "metadata": {},
   "source": [
    "## Inference"
   ]
  },
  {
   "cell_type": "code",
   "execution_count": 15,
   "metadata": {
    "collapsed": true
   },
   "outputs": [],
   "source": [
    "prediction = tf.argmax(probs, axis=-1)"
   ]
  },
  {
   "cell_type": "markdown",
   "metadata": {},
   "source": [
    "# TRAINING"
   ]
  },
  {
   "cell_type": "code",
   "execution_count": 16,
   "metadata": {
    "collapsed": true
   },
   "outputs": [],
   "source": [
    "config = tf.ConfigProto(allow_soft_placement = True)\n",
    "sess = tf.InteractiveSession(config = config)\n",
    "sess.run(tf.global_variables_initializer())"
   ]
  },
  {
   "cell_type": "markdown",
   "metadata": {},
   "source": [
    "### Training parameters"
   ]
  },
  {
   "cell_type": "code",
   "execution_count": 17,
   "metadata": {
    "collapsed": true
   },
   "outputs": [],
   "source": [
    "num_epochs = 20"
   ]
  },
  {
   "cell_type": "markdown",
   "metadata": {},
   "source": [
    "## Begin"
   ]
  },
  {
   "cell_type": "code",
   "execution_count": 18,
   "metadata": {},
   "outputs": [
    {
     "name": "stdout",
     "output_type": "stream",
     "text": [
      "0.30 : 3.9470930178960164\n",
      "0.60 : 2.546596145629883\n",
      "0.90 : 1.7961014747619628\n",
      "0.120 : 1.1721597969532014\n",
      "0.150 : 0.8484559178352356\n",
      "0.180 : 0.6722201824188232\n",
      "0.210 : 0.5757172624270122\n",
      "0.240 : 0.49877248803774515\n",
      "1.30 : 0.4234134624401728\n",
      "1.60 : 0.3767172416051229\n",
      "1.90 : 0.35226030747095743\n",
      "1.120 : 0.3281350791454315\n",
      "1.150 : 0.3169568806886673\n",
      "1.180 : 0.3092158039410909\n",
      "1.210 : 0.3064297099908193\n",
      "1.240 : 0.3026467909415563\n",
      "2.30 : 0.30772637327512103\n",
      "2.60 : 0.2944767475128174\n",
      "2.90 : 0.29480880002180737\n",
      "2.120 : 0.2905799627304077\n",
      "2.150 : 0.289568629860878\n",
      "2.180 : 0.2882703880469004\n",
      "2.210 : 0.29311469197273254\n",
      "2.240 : 0.2900694638490677\n",
      "3.30 : 0.2999609112739563\n",
      "3.60 : 0.2885451485713323\n",
      "3.90 : 0.2894310474395752\n",
      "3.120 : 0.28706316550572714\n",
      "3.150 : 0.286658838391304\n",
      "3.180 : 0.285483052333196\n",
      "3.210 : 0.28860851128896076\n",
      "3.240 : 0.28708851933479307\n",
      "4.30 : 0.29843737185001373\n",
      "4.60 : 0.2876114845275879\n",
      "4.90 : 0.2882773111263911\n",
      "4.120 : 0.28662173052628837\n",
      "4.150 : 0.285749947031339\n",
      "4.180 : 0.28462084631125134\n",
      "4.210 : 0.2877098043759664\n",
      "4.240 : 0.2863894293705622\n",
      "5.30 : 0.2985308825969696\n",
      "5.60 : 0.2876641968886057\n",
      "5.90 : 0.28849965234597524\n",
      "5.120 : 0.28646077613035836\n",
      "5.150 : 0.2859453131755193\n",
      "5.180 : 0.284477107723554\n",
      "5.210 : 0.28760939041773476\n",
      "5.240 : 0.2863220155239105\n",
      "6.30 : 0.29873090982437134\n",
      "6.60 : 0.2874574661254883\n",
      "6.90 : 0.28797795275847116\n",
      "6.120 : 0.2857377757628759\n",
      "6.150 : 0.2853071441253026\n",
      "6.180 : 0.2839680145184199\n",
      "6.210 : 0.28693020741144815\n",
      "6.240 : 0.2856053094069163\n",
      "7.30 : 0.29714597562948863\n",
      "7.60 : 0.2867146839698156\n",
      "7.90 : 0.28739939828713734\n",
      "7.120 : 0.28540779252847037\n",
      "7.150 : 0.2851338297128677\n",
      "7.180 : 0.28392279346783955\n",
      "7.210 : 0.28686349987983706\n",
      "7.240 : 0.2856336712837219\n",
      "8.30 : 0.2976684590180715\n",
      "8.60 : 0.2871034532785416\n",
      "8.90 : 0.2877442270517349\n",
      "8.120 : 0.2855851968129476\n",
      "8.150 : 0.28498377799987795\n",
      "8.180 : 0.283647346496582\n",
      "8.210 : 0.28654900193214417\n",
      "8.240 : 0.2853786458571752\n",
      "9.30 : 0.29715543389320376\n",
      "9.60 : 0.28674235244592033\n",
      "9.90 : 0.28688201904296873\n",
      "9.120 : 0.28491836587587993\n",
      "9.150 : 0.2845928062995275\n",
      "9.180 : 0.28329599599043526\n",
      "9.210 : 0.286273459593455\n",
      "9.240 : 0.2851543456315994\n",
      "10.30 : 0.29683606525262196\n",
      "10.60 : 0.28593887984752653\n",
      "10.90 : 0.2864370177189509\n",
      "10.120 : 0.2851093123356501\n",
      "10.150 : 0.2842086563507716\n",
      "10.180 : 0.2830537885427475\n",
      "10.210 : 0.28621958593527475\n",
      "10.240 : 0.2851003338893255\n",
      "11.30 : 0.29646090269088743\n",
      "11.60 : 0.2859652151664098\n",
      "11.90 : 0.2869736969470978\n",
      "11.120 : 0.28383227388064064\n",
      "11.150 : 0.28417676786581675\n",
      "11.180 : 0.28344465990861256\n",
      "11.210 : 0.28618300954500836\n",
      "11.240 : 0.2849485437075297\n",
      "12.30 : 0.29590792655944825\n",
      "12.60 : 0.28551969726880394\n",
      "12.90 : 0.286433669924736\n",
      "12.120 : 0.28386684954166413\n",
      "12.150 : 0.28353790640830995\n",
      "12.180 : 0.2828005770842234\n",
      "12.210 : 0.28513653179009757\n",
      "12.240 : 0.28408580720424653\n",
      "13.30 : 0.29481497406959534\n",
      "13.60 : 0.2830907831589381\n",
      "13.90 : 0.284388264020284\n",
      "13.120 : 0.28316487471262614\n",
      "13.150 : 0.28343139390150707\n",
      "13.180 : 0.28216293454170227\n",
      "13.210 : 0.2845010975996653\n",
      "13.240 : 0.2837661872307459\n",
      "14.30 : 0.2945278058449427\n",
      "14.60 : 0.2837045749028524\n",
      "14.90 : 0.28453948895136516\n",
      "14.120 : 0.28256604870160423\n",
      "14.150 : 0.28265445729096733\n",
      "14.180 : 0.28162565430005393\n",
      "14.210 : 0.2838357537984848\n",
      "14.240 : 0.28332109153270724\n",
      "15.30 : 0.29390919506549834\n",
      "15.60 : 0.28308655818303424\n",
      "15.90 : 0.28385350008805593\n",
      "15.120 : 0.2818276991446813\n",
      "15.150 : 0.28192095855871835\n",
      "15.180 : 0.2807263811429342\n",
      "15.210 : 0.28327194849650067\n",
      "15.240 : 0.2826998213926951\n",
      "16.30 : 0.2936235050360362\n",
      "16.60 : 0.28347740372021996\n",
      "16.90 : 0.283886726697286\n",
      "16.120 : 0.28199881613254546\n",
      "16.150 : 0.28186201949914297\n",
      "16.180 : 0.2807126472393672\n",
      "16.210 : 0.2829315274953842\n",
      "16.240 : 0.2824519664049149\n",
      "17.30 : 0.2931817501783371\n",
      "17.60 : 0.2825070371230443\n",
      "17.90 : 0.28335104187329613\n",
      "17.120 : 0.2817623297373454\n",
      "17.150 : 0.2822698086500168\n",
      "17.180 : 0.2808679223060608\n",
      "17.210 : 0.28340939184029895\n",
      "17.240 : 0.28260131776332853\n",
      "18.30 : 0.29317253530025483\n",
      "18.60 : 0.2829994906981786\n",
      "18.90 : 0.28351532518863676\n",
      "18.120 : 0.2812935551007589\n",
      "18.150 : 0.28112644553184507\n",
      "18.180 : 0.27998174726963043\n",
      "18.210 : 0.28227701286474866\n",
      "18.240 : 0.281921590367953\n",
      "19.30 : 0.29265125195185343\n",
      "19.60 : 0.2828102231025696\n",
      "19.90 : 0.28319248656431834\n",
      "19.120 : 0.2807781090339025\n",
      "19.150 : 0.2811141083637873\n",
      "19.180 : 0.27969104548295337\n",
      "19.210 : 0.28267223834991456\n",
      "19.240 : 0.2824824144442876\n"
     ]
    }
   ],
   "source": [
    "for i in range(num_epochs):\n",
    "    avg_loss = 0.\n",
    "    for j in range(len(idx_q)//B):\n",
    "        _, loss_v = sess.run([train_op, loss], feed_dict = {\n",
    "            inputs : idx_q[j*B:(j+1)*B],\n",
    "            targets : idx_a[j*B:(j+1)*B]\n",
    "        })\n",
    "        avg_loss += loss_v\n",
    "        if j and j%30==0:\n",
    "            print('{}.{} : {}'.format(i,j,avg_loss/30))\n",
    "            avg_loss = 0."
   ]
  },
  {
   "cell_type": "code",
   "execution_count": 19,
   "metadata": {
    "collapsed": true
   },
   "outputs": [],
   "source": [
    "j = 7 \n",
    "pred_v = sess.run(prediction, feed_dict = {\n",
    "            inputs : idx_q[j*B:(j+1)*B],\n",
    "            targets : idx_a[j*B:(j+1)*B]\n",
    "        })"
   ]
  },
  {
   "cell_type": "code",
   "execution_count": null,
   "metadata": {},
   "outputs": [],
   "source": [
    "pred_v[0], idx_a[j*B:(j+1)*B][0]"
   ]
  },
  {
   "cell_type": "code",
   "execution_count": 20,
   "metadata": {
    "collapsed": true
   },
   "outputs": [],
   "source": [
    "def arr2sent(arr):\n",
    "    return ' '.join([i2w[item] for item in arr])"
   ]
  },
  {
   "cell_type": "code",
   "execution_count": 24,
   "metadata": {},
   "outputs": [
    {
     "name": "stdout",
     "output_type": "stream",
     "text": [
      "i i i i i i i i i i i i i i i i thank i i i\n",
      "i i i i i i i i i i i i i i i i thanks i i thank\n",
      "i i i i i i i i thanks i i i i i i i i i i i\n",
      "i i i i i thank i i i i i i i i science i i i i i\n",
      "i i i i i i i i i thank i i i i i i i i i i\n",
      "i i i i i i i i i i i thank i i i thank i i i thanks\n",
      "i thank i i i i thank i i i i i i i thank i i i i i\n",
      "i i i i i i i thank i i i i i i i i i i i i\n",
      "i i i i i this i i i i i i i i i i i i i i\n",
      "i i thank i i i i thank i i i i i i i i i i i i\n",
      "i i i i i i i i i i i i i i i i i i i i\n",
      "i i i i i i i i i i i i i i i i i i i i\n",
      "i i i i i i i i i i i i i i i i i i i i\n",
      "i i i i i i i i i i i i i i i i thank i i i\n",
      "i i i i i i i i i i i i i i i i i i i this\n",
      "i i i i i i i i i i i i i i i i i i i i\n",
      "i i i i i thank i i i i i thanks i i i thank i i i i\n",
      "i i i i i i i i i i i i i i thank i i i i i\n",
      "i i i i i i i i i i i i i i i thank i i i i\n",
      "i i i i thank i i i i i i i i i i i i i i i\n",
      "i i thanks i i thank i i i i i i i i i i i i i i\n",
      "i i i i i i i i i i i thank i i i i i i i i\n",
      "thank i i i i i i i i i i i i thank i i but i i i\n",
      "i i i i thank i i i i i thanks i i i i i i i i i\n",
      "i im i i i i i i i i i i i i i i i i i i\n",
      "aide aide aide aide aide aide aide aide aide aide aide aide aide aide aide aide aide aide aide aide\n",
      "aide aide aide aide aide aide aide aide aide aide aide aide aide aide aide aide phase aide aide aide\n",
      "aide aide aide aide aide aide aide aide aide aide aide aide aide aide aide aide aide aide aide aide\n",
      "aide aide aide aide aide aide aide aide aide aide aide aide aide aide threatened aide aide aide cave aide\n",
      "rioters aide aide aide aide aide aide aide aide aide aide aide aide aide aide aide aide aide aide aide\n",
      "aide aide aide aide aide aide aide aide aide aide aide aide aide aide aide aide aide aide aide aide\n",
      "aide aide aide aide aide aide aide aide aide aide aide aide aide aide aide aide aide aide aide aide\n",
      "aide aide aide aide aide aide aide hosts aide aide aide aide aide aide aide aide aide aide aide aide\n",
      "aide aide aide aide aide aide aide aide aide aide aide aide aide aide aide aide aide aide aide aide\n",
      "aide aide aide aide aide aide aide aide aide aide aide aide aide aide aide aide aide aide aide aide\n",
      "aide aide aide aide grey aide aide aide aide aide aide aide aide aide aide aide aide aide aide aide\n",
      "aide aide aide aide aide aide aide aide aide aide aide aide aide aide aide aide aide aide aide aide\n",
      "aide aide aide aide aide aide aide aide aide aide aide aide aide aide aide aide aide aide aide aide\n",
      "aide aide aide aide aide aide aide aide aide aide aide aide aide aide aide aide aide aide aide aide\n",
      "aide aide aide aide aide aide aide aide aide aide aide aide aide aide aide aide aide aide aide aide\n",
      "aide aide aide aide aide aide aide aide aide aide aide aide aide aide aide aide aide aide aide aide\n",
      "aide aide aide aide aide aide aide aide aide aide aide aide aide aide aide aide aide aide aide aide\n",
      "aide aide aide aide aide aide aide aide aide aide aide aide aide aide aide aide aide aide aide aide\n",
      "aide aide aide aide aide aide aide aide aide aide aide aide aide aide aide aide aide aide aide aide\n",
      "aide aide aide aide aide aide aide aide aide aide aide aide aide aide aide aide aide aide aide aide\n",
      "aide aide aide aide aide aide aide aide aide aide aide aide aide aide aide aide aide aide aide aide\n",
      "aide aide aide aide aide aide aide aide aide aide aide aide aide aide aide aide aide aide aide aide\n",
      "aide aide aide aide aide aide aide aide aide aide aide aide aide aide aide aide gee aide aide aide\n",
      "aide aide aide aide aide aide aide aide aide aide aide aide aide aide aide aide aide aide aide aide\n",
      "aide gee aide aide aide aide aide aide aide aide aide aide aide aide aide aide aide aide aide aide\n",
      "geno geno geno geno geno geno geno geno geno geno geno geno geno geno geno geno geno geno geno geno\n",
      "geno geno geno geno geno geno geno geno geno geno geno geno geno geno geno geno geno geno geno geno\n",
      "geno geno geno geno geno geno geno geno geno geno geno geno geno geno geno geno geno geno geno geno\n",
      "geno geno geno geno geno geno geno geno geno geno geno geno geno geno fewer geno geno geno geno geno\n",
      "alltime geno geno geno geno geno geno geno geno geno geno geno geno geno geno geno geno geno geno geno\n",
      "geno geno geno geno geno geno geno geno geno geno geno geno geno geno geno geno geno geno geno geno\n",
      "geno geno geno geno geno geno geno geno geno geno geno geno geno geno tricky geno geno geno geno geno\n",
      "geno geno geno geno geno geno geno geno geno geno geno geno geno geno geno geno geno geno geno geno\n",
      "geno geno geno geno geno geno geno geno geno geno geno geno geno geno geno geno geno geno geno geno\n",
      "geno geno geno geno prof geno geno geno geno geno geno geno geno geno geno geno geno geno geno geno\n",
      "geno geno geno geno brough geno geno geno geno geno geno geno geno geno geno geno geno geno geno geno\n",
      "geno geno geno geno geno geno geno geno geno geno geno geno geno geno geno geno geno geno geno geno\n",
      "geno geno geno geno geno geno geno geno geno geno geno geno geno geno geno geno geno geno geno geno\n",
      "geno geno geno geno geno geno geno geno geno geno geno geno geno geno geno geno geno geno geno geno\n",
      "geno geno geno geno geno geno geno geno geno geno geno geno geno geno geno geno geno geno geno geno\n",
      "geno geno geno geno geno geno geno geno geno geno geno geno geno geno geno geno geno geno geno geno\n",
      "geno geno geno geno geno geno geno geno geno geno geno geno geno geno geno geno geno geno geno geno\n",
      "geno geno geno geno geno geno geno geno geno geno geno geno geno geno geno geno geno geno geno geno\n",
      "geno geno geno geno geno geno geno geno geno geno geno geno geno geno geno geno geno geno geno geno\n",
      "geno geno geno geno geno geno geno geno geno geno geno geno geno geno geno geno geno geno geno geno\n",
      "geno geno geno geno geno geno geno geno geno geno geno geno geno geno geno geno geno geno geno geno\n",
      "geno geno geno geno geno geno geno geno geno geno geno geno geno geno geno geno geno geno geno geno\n",
      "tricky geno geno geno geno geno geno geno geno geno geno geno geno geno geno geno geno geno geno geno\n",
      "geno geno geno geno tricky geno geno geno geno geno geno geno geno geno geno geno geno geno geno geno\n",
      "geno introduce geno geno geno geno geno geno geno geno geno geno geno geno geno geno geno geno geno geno\n",
      "lgbt what what lgbt lgbt lgbt lgbt what lgbt what what lgbt lgbt what what lgbt lgbt lgbt what what\n",
      "wait what what builds what what lgbt what lgbt lgbt packers lgbt what what lgbt lgbt brings what packers lgbt\n",
      "jesse what lgbt what what what what lgbt lgbt what jesse what lgbt lgbt what what lgbt what what lgbt\n",
      "builds what what what what lgbt what lgbt lgbt what what what packers what distracted what what what jesse packers\n",
      "survived what lgbt lgbt lgbt lgbt lgbt lgbt lgbt lgbt lgbt what what lgbt lgbt what lgbt what lgbt lgbt\n",
      "lgbt what what lgbt what what what what what lgbt lgbt lgbt lgbt lgbt lgbt lgbt what what what lgbt\n",
      "what lgbt what what what what lgbt lgbt lgbt what what what what what lgbt lgbt what what pakistani lgbt\n",
      "lgbt what lgbt lgbt lgbt what lgbt stopandfrisk what what what lgbt lgbt lgbt lgbt what what lgbt lgbt packers\n",
      "what what lgbt what lgbt jesse what what lgbt lgbt lgbt stopandfrisk what lgbt what what what what lgbt lgbt\n",
      "lgbt lgbt lgbt what lgbt what lgbt lgbt lgbt lgbt lgbt lgbt what what what what lgbt what what what\n",
      "lgbt what lgbt what survived lgbt what lgbt lgbt wait lgbt lgbt lgbt what lgbt lgbt what what lgbt what\n",
      "lgbt lgbt lgbt lgbt lgbt packers what lgbt jesse what lgbt lgbt packers what what lgbt lgbt what what lgbt\n",
      "what what lgbt what what lgbt lgbt what what what what what lgbt what what what lgbt what what lgbt\n",
      "what what lgbt what what lgbt what lgbt lgbt lgbt lgbt what what lgbt wait what lgbt what lgbt lgbt\n",
      "lgbt what what lgbt what lgbt what packers what what what lgbt what lgbt lgbt lgbt lgbt what what jesse\n",
      "lgbt lgbt lgbt lgbt what lgbt what what lgbt what what what what lgbt lgbt what lgbt what lgbt what\n",
      "lgbt lgbt packers what what lgbt lgbt lgbt lgbt what lgbt lgbt what what lgbt lgbt lgbt what packers what\n",
      "wait lgbt lgbt lgbt what wait wait lgbt lgbt wait what what lgbt lgbt lgbt what lgbt what lgbt what\n",
      "lgbt lgbt jesse what what lgbt lgbt lgbt lgbt lgbt lgbt what lgbt lgbt lgbt lgbt wait what lgbt what\n",
      "what what lgbt what lgbt lgbt lgbt lgbt what what what what lgbt lgbt lgbt lgbt lgbt lgbt what lgbt\n",
      "lgbt lgbt lgbt packers lgbt lgbt lgbt builds what what lgbt what lgbt lgbt lgbt lgbt lgbt lgbt what lgbt\n",
      "what lgbt what what what what packers lgbt packers what lgbt lgbt lgbt what lgbt lgbt what lgbt lgbt lgbt\n",
      "lgbt lgbt wait lgbt lgbt lgbt lgbt lgbt lgbt lgbt lgbt lgbt what lgbt lgbt wait survived lgbt lgbt lgbt\n",
      "what what lgbt lgbt meh lgbt lgbt lgbt lgbt what lgbt lgbt what what lgbt lgbt lgbt lgbt what what\n",
      "lgbt jesse what what what lgbt what lgbt what what lgbt what what builds lgbt lgbt what masters what lgbt\n",
      "pointed interpretation interpretation fails remain pointed remain interpretation fails remain remain fails remain remain interpretation remain measure fails remain remain\n",
      "remain remain remain remain remain remain measure fails remain remain fails remain fails remain remain fails distracted remain fails remain\n",
      "pointed remain remain remain remain remain remain fails remain remain fails remain fails fails remain remain remain remain interpretation remain\n",
      "controversial interpretation remain remain fails measure interpretation remain remain remain interpretation remain remain interpretation distracted distracted interpretation interpretation controversial remain\n",
      "remain distracted remain fails fails remain fails remain remain remain remain remain remain fails remain fails remain fails remain remain\n",
      "fails interpretation fails remain remain interpretation interpretation remain interpretation remain remain remain remain remain remain remain remain fails interpretation remain\n",
      "interpretation measure remain remain remain interpretation remain remain remain interpretation interpretation remain remain remain bob measure remain interpretation remain cooper\n",
      "remain remain remain pointed fails remain fails headlines interpretation fails remain remain remain fails remain fails remain remain remain fails\n",
      "remain remain remain remain fails measure interpretation interpretation remain distracted remain volunteers remain distracted fails remain interpretation remain remain remain\n",
      "cooper remain fails fails load interpretation remain fails pointed remain remain fails interpretation interpretation remain interpretation remain remain interpretation remain\n",
      "remain remain fails remain perception remain remain remain remain remain remain remain remain remain remain controversial remain fails remain fails\n",
      "remain remain fails measure remain remain remain remain pointed remain remain remain distracted remain fails fails remain remain interpretation remain\n",
      "fails interpretation fails controversial remain remain remain remain remain remain interpretation remain remain remain interpretation interpretation remain remain interpretation remain\n",
      "interpretation interpretation remain fails remain remain remain fails remain remain remain remain interpretation remain interpretation fails fails remain remain remain\n",
      "remain fails remain remain remain remain remain remain fails fails fails remain remain remain remain remain remain remain interpretation measure\n",
      "remain fails remain remain remain remain remain remain fails interpretation interpretation interpretation remain fails remain interpretation fails interpretation fails interpretation\n",
      "measure remain remain fails interpretation remain fails fails remain remain remain remain fails remain fails remain fails remain remain interpretation\n",
      "fails remain remain cooper remain fails distracted fails interpretation remain remain remain remain remain controversial remain fails remain fails remain\n",
      "remain remain remain fails remain measure cooper pointed fails remain remain remain remain remain remain remain fewer fails remain interpretation\n",
      "remain remain remain cooper fails remain fails remain remain interpretation remain remain remain fails remain remain controversial remain remain fails\n",
      "remain remain fails remain remain remain fails remain interpretation remain fails fails remain remain remain remain remain remain remain remain\n",
      "remain fails interpretation remain remain interpretation remain remain remain fails remain remain measure remain remain remain interpretation remain fails remain\n",
      "remain remain remain remain remain fails remain fails remain remain remain remain interpretation fails remain remain brexit remain remain remain\n",
      "interpretation remain fails remain remain remain measure remain remain fails remain remain controversial interpretation remain remain remain cooper remain fails\n",
      "remain hackers fails interpretation interpretation remain fields pointed remain interpretation remain remain fields remain fails fails remain remain fails remain\n",
      "tricky tricky tricky hackers tricky tricky tricky tricky tricky tricky tricky tricky tricky tricky tricky tricky tricky tricky tricky tricky\n",
      "tricky tricky tricky remain tricky tricky hackers tricky tricky tricky tricky tricky tricky tricky tricky tricky tricky tricky hackers tricky\n",
      "hackers tricky tricky tricky tricky tricky tricky tricky tricky tricky hackers tricky tricky hackers tricky tricky tricky tricky tricky tricky\n",
      "tricky tricky tricky pakistani tricky tricky tricky tricky tricky tricky tricky tricky tricky tricky hackers tricky tricky tricky tricky tricky\n",
      "tricky tricky tricky tricky tricky tricky tricky tricky tricky tricky tricky tricky tricky tricky tricky tricky tricky tricky tricky tricky\n",
      "tricky tricky tricky tricky tricky tricky tricky tricky tricky tricky tricky tricky tricky tricky tricky tricky tricky tricky tricky tricky\n",
      "tricky tricky tricky tricky tricky tricky tricky tricky tricky tricky tricky tricky tricky tricky tricky hackers tricky tricky tricky tricky\n",
      "tricky tricky tricky tricky hackers tricky tricky tricky pakistani tricky tricky tricky tricky tricky tricky tricky tricky tricky tricky tricky\n",
      "tricky tricky tricky tricky tricky hackers tricky tricky tricky tricky tricky i tricky tricky tricky tricky tricky tricky tricky tricky\n",
      "tricky tricky tricky tricky tricky tricky tricky tricky tricky tricky tricky tricky tricky tricky tricky tricky tricky tricky tricky tricky\n",
      "tricky tricky hackers tricky sen tricky tricky tricky tricky tricky tricky tricky tricky tricky tricky tricky tricky tricky tricky tricky\n",
      "tricky tricky tricky hackers tricky tricky tricky tricky hackers tricky tricky tricky tricky tricky tricky hackers tricky tricky tricky tricky\n",
      "tricky tricky tricky tricky tricky tricky tricky tricky tricky tricky tricky tricky tricky tricky tricky tricky tricky tricky tricky tricky\n",
      "tricky tricky tricky tricky tricky tricky tricky hackers tricky tricky tricky tricky tricky tricky tricky tricky tricky tricky tricky tricky\n",
      "tricky tricky tricky tricky tricky tricky tricky tricky tricky tricky tricky tricky tricky tricky tricky tricky tricky tricky tricky hackers\n",
      "tricky tricky tricky tricky tricky tricky tricky tricky tricky tricky tricky tricky tricky tricky tricky tricky tricky meh tricky tricky\n",
      "tricky tricky tricky tricky tricky tricky tricky remain tricky tricky tricky tricky tricky tricky tricky tricky tricky tricky tricky tricky\n",
      "tricky tricky tricky tricky tricky tricky tricky tricky tricky hackers tricky tricky tricky tricky tricky tricky tricky tricky hackers meh\n",
      "tricky pakistani pakistani tricky tricky hackers tricky tricky tricky tricky tricky tricky tricky tricky tricky tricky pakistani tricky tricky tricky\n",
      "tricky tricky tricky pakistani tricky tricky tricky tricky tricky tricky tricky tricky tricky tricky tricky tricky tricky tricky tricky tricky\n",
      "tricky tricky tricky tricky tricky tricky tricky tricky tricky tricky tricky tricky tricky tricky tricky tricky tricky tricky meh tricky\n",
      "tricky hackers tricky tricky tricky tricky tricky tricky tricky tricky tricky tricky hackers tricky tricky tricky tricky tricky tricky tricky\n",
      "tricky tricky tricky tricky tricky hackers tricky tricky tricky tricky tricky tricky tricky tricky tricky tricky pakistani tricky tricky tricky\n",
      "tricky tricky hackers tricky tricky tricky hackers tricky tricky tricky tricky tricky tricky tricky tricky tricky tricky tricky tricky tricky\n",
      "tricky tricky tricky tricky tricky tricky meh hackers tricky tricky tricky tricky meh tricky tricky tricky tricky prof tricky tricky\n",
      "exception controversial distracted controversial remain distracted pointed controversial controversial remain remain controversial remain controversial controversial remain pointed controversial remain distracted\n",
      "remain controversial controversial load remain remain exception controversial remain remain hackers remain controversial remain remain controversial remain distracted controversial pointed\n",
      "hackers controversial remain controversial remain remain remain controversial pointed remain controversial controversial controversial measure remain controversial remain distracted remain remain\n",
      "perception controversial remain remain controversial pointed remain remain remain remain remain remain distracted controversial mainstream exception remain remain tricky remain\n",
      "cnns exception remain controversial controversial controversial controversial remain distracted remain distracted controversial remain controversial controversial controversial pointed controversial remain controversial\n",
      "distracted controversial controversial distracted remain controversial controversial controversial remain controversial exception pointed remain remain remain pointed controversial exception controversial pointed\n",
      "remain remain distracted controversial remain controversial remain controversial remain distracted distracted remain remain controversial pointed exception remain controversial distracted controversial\n",
      "remain remain pointed controversial controversial remain remain controversial controversial controversial remain remain remain remain remain controversial remain remain remain controversial\n",
      "controversial distracted remain remain controversial hackers controversial controversial controversial melt remain rioters controversial distracted controversial controversial controversial controversial remain remain\n",
      "distracted remain pointed controversial measure controversial remain pointed controversial controversial controversial controversial distracted controversial remain remain remain controversial controversial controversial\n",
      "remain remain measure remain hackers remain remain remain remain remain remain controversial controversial remain controversial controversial remain controversial controversial controversial\n",
      "remain controversial controversial exception controversial remain controversial remain remain controversial remain remain distracted controversial controversial controversial remain controversial controversial pointed\n",
      "controversial controversial controversial perception remain remain remain controversial distracted remain controversial remain remain remain controversial controversial remain controversial distracted remain\n",
      "controversial remain remain exception controversial controversial controversial premise remain remain remain controversial remain remain distracted controversial pointed controversial controversial remain\n",
      "remain controversial controversial remain controversial remain controversial remain controversial controversial distracted remain controversial controversial remain remain remain controversial controversial hackers\n",
      "remain controversial remain remain distracted remain controversial remain controversial remain controversial controversial remain controversial remain controversial controversial remain controversial controversial\n",
      "controversial remain distracted controversial distracted pointed controversial distracted distracted remain remain pointed controversial remain controversial pointed controversial remain remain remain\n",
      "distracted distracted remain distracted controversial controversial distracted controversial remain pointed remain remain controversial distracted pointed remain remain remain controversial remain\n",
      "remain remain remain controversial remain measure distracted distracted distracted controversial remain remain distracted remain remain remain distracted controversial remain controversial\n",
      "controversial remain remain distracted pointed distracted controversial controversial remain controversial distracted remain remain distracted remain remain controversial remain controversial controversial\n",
      "remain remain pointed distracted controversial pointed controversial perception remain distracted controversial controversial distracted remain remain remain controversial remain remain remain\n",
      "controversial exception controversial controversial controversial controversial remain remain remain controversial controversial remain measure controversial distracted remain controversial perception controversial exception\n",
      "pointed remain distracted remain remain premise remain controversial exception pointed remain remain controversial pointed remain distracted controversial remain remain remain\n",
      "controversial controversial controversial controversial pointed remain measure remain remain controversial distracted remain measure remain remain pointed remain distracted remain controversial\n",
      "remain lgbt controversial distracted controversial controversial remain controversial remain controversial remain remain remain remain controversial controversial controversial fields controversial remain\n",
      "optimistic optimistic optimistic optimistic optimistic optimistic tricky optimistic optimistic optimistic optimistic tricky optimistic optimistic optimistic optimistic tricky optimistic optimistic optimistic\n",
      "optimistic optimistic optimistic remain optimistic optimistic weirdly optimistic tricky optimistic tricky optimistic optimistic optimistic optimistic optimistic tricky optimistic optimistic tricky\n",
      "weirdly optimistic optimistic optimistic optimistic optimistic optimistic optimistic tricky optimistic weirdly optimistic optimistic weirdly optimistic optimistic tricky optimistic optimistic tricky\n",
      "load optimistic optimistic optimistic optimistic tricky optimistic optimistic optimistic optimistic optimistic optimistic optimistic optimistic pointed optimistic optimistic optimistic optimistic tricky\n",
      "fails optimistic optimistic optimistic optimistic optimistic optimistic optimistic tricky tricky optimistic optimistic optimistic optimistic optimistic optimistic tricky optimistic optimistic optimistic\n",
      "optimistic optimistic optimistic optimistic optimistic optimistic optimistic optimistic optimistic optimistic optimistic tricky optimistic optimistic tricky tricky optimistic optimistic optimistic optimistic\n",
      "optimistic tricky optimistic optimistic optimistic optimistic optimistic tricky optimistic optimistic optimistic optimistic optimistic optimistic controversial weirdly optimistic optimistic tricky optimistic\n",
      "optimistic optimistic tricky optimistic weirdly optimistic optimistic tricky optimistic optimistic tricky optimistic tricky optimistic tricky optimistic optimistic optimistic optimistic optimistic\n",
      "optimistic optimistic optimistic optimistic optimistic tricky optimistic optimistic optimistic controversial optimistic remain optimistic optimistic optimistic optimistic optimistic optimistic optimistic optimistic\n",
      "optimistic optimistic tricky optimistic perception optimistic optimistic tricky optimistic optimistic optimistic optimistic optimistic optimistic optimistic optimistic optimistic optimistic optimistic optimistic\n",
      "optimistic optimistic weirdly optimistic tricky optimistic optimistic optimistic optimistic optimistic optimistic optimistic tricky optimistic optimistic tricky optimistic optimistic optimistic optimistic\n",
      "optimistic optimistic optimistic weirdly optimistic tricky optimistic optimistic weirdly optimistic optimistic tricky tricky optimistic optimistic weirdly optimistic optimistic optimistic tricky\n",
      "optimistic optimistic optimistic tricky optimistic optimistic optimistic optimistic optimistic optimistic optimistic optimistic tricky optimistic optimistic optimistic optimistic optimistic optimistic optimistic\n",
      "optimistic optimistic optimistic optimistic optimistic optimistic optimistic weirdly tricky optimistic optimistic optimistic optimistic tricky optimistic optimistic tricky optimistic optimistic optimistic\n",
      "optimistic optimistic optimistic optimistic optimistic optimistic optimistic optimistic optimistic optimistic optimistic optimistic optimistic tricky optimistic optimistic optimistic optimistic optimistic tricky\n",
      "optimistic optimistic optimistic optimistic optimistic optimistic optimistic optimistic optimistic optimistic optimistic optimistic optimistic optimistic tricky optimistic optimistic controversial optimistic optimistic\n",
      "tricky optimistic tricky optimistic optimistic tricky optimistic tricky measure optimistic optimistic tricky optimistic optimistic optimistic tricky optimistic optimistic tricky optimistic\n",
      "optimistic optimistic tricky optimistic optimistic optimistic optimistic optimistic optimistic tricky optimistic optimistic optimistic optimistic tricky optimistic optimistic optimistic weirdly pakistani\n",
      "optimistic optimistic tricky optimistic optimistic weirdly optimistic optimistic tricky optimistic tricky optimistic optimistic optimistic optimistic tricky remain optimistic optimistic optimistic\n",
      "optimistic optimistic tricky optimistic tricky optimistic tricky optimistic optimistic optimistic optimistic optimistic optimistic optimistic optimistic optimistic optimistic optimistic optimistic optimistic\n",
      "optimistic tricky tricky optimistic optimistic optimistic optimistic tricky optimistic optimistic optimistic optimistic tricky optimistic tricky optimistic optimistic optimistic tricky optimistic\n",
      "optimistic optimistic optimistic optimistic optimistic optimistic optimistic optimistic optimistic optimistic optimistic optimistic weirdly optimistic optimistic optimistic optimistic tricky optimistic tricky\n",
      "controversial optimistic optimistic optimistic optimistic weirdly optimistic optimistic tricky tricky optimistic optimistic optimistic tricky optimistic optimistic tricky optimistic optimistic optimistic\n",
      "optimistic optimistic weirdly optimistic controversial optimistic weirdly optimistic optimistic optimistic tricky tricky tricky optimistic optimistic optimistic optimistic optimistic optimistic optimistic\n",
      "optimistic tricky optimistic optimistic optimistic tricky tricky optimistic optimistic optimistic optimistic optimistic tricky tricky optimistic optimistic optimistic tricky optimistic tricky\n",
      "headlines load perception headlines perception headlines distracted headlines distracted perception perception distracted perception perception headlines perception distracted headlines perception perception\n",
      "perception load load load perception perception headlines perception remain perception headlines remain perception perception perception perception interpretation perception headlines distracted\n",
      "headlines perception perception perception perception perception load perception distracted perception headlines perception headlines headlines perception load distracted perception perception remain\n",
      "distracted perception perception perception perception distracted perception remain perception perception perception perception distracted headlines hackers perception perception perception tricky remain\n",
      "tricky perception perception distracted headlines distracted perception perception perception remain perception perception perception distracted load load distracted perception remain load\n",
      "headlines perception perception distracted headlines perception perception perception perception perception perception distracted perception perception remain distracted perception perception perception remain\n",
      "perception remain perception perception headlines perception remain remain perception perception perception perception perception load optimistic headlines perception perception distracted headlines\n",
      "remain perception remain distracted headlines perception perception remain headlines perception distracted perception distracted perception remain perception perception perception distracted headlines\n",
      "load perception perception perception perception headlines perception perception distracted measure remain tricky perception headlines perception perception perception headlines distracted remain\n",
      "headlines perception remain perception weirdly perception remain distracted headlines load load distracted perception perception perception perception remain perception perception perception\n",
      "perception perception headlines perception tricky perception perception load perception load perception perception load perception distracted load perception perception distracted load\n",
      "remain distracted load headlines perception remain perception distracted headlines perception remain remain pointed perception perception headlines distracted perception perception distracted\n",
      "perception perception headlines headlines perception distracted remain perception perception perception perception load remain perception perception perception remain perception perception perception\n",
      "perception perception distracted perception perception distracted perception headlines remain remain remain perception perception remain load load distracted perception perception load\n",
      "headlines perception perception remain perception remain perception remain perception perception perception perception perception distracted perception perception perception perception perception headlines\n",
      "remain headlines distracted perception perception remain perception perception headlines perception perception perception perception load remain perception perception headlines headlines perception\n",
      "distracted perception distracted load headlines distracted headlines tricky remain perception remain remain perception perception headlines distracted perception perception remain perception\n",
      "headlines perception distracted headlines perception headlines perception perception perception remain perception remain perception remain distracted perception perception perception headlines remain\n",
      "perception headlines interpretation perception perception headlines headlines headlines distracted perception load perception interpretation distracted perception remain distracted perception remain perception\n",
      "perception perception remain perception distracted interpretation distracted load perception headlines perception perception perception headlines perception load distracted remain perception headlines\n",
      "perception remain distracted interpretation perception remain headlines distracted perception perception distracted perception perception perception remain perception distracted remain remain remain\n",
      "perception headlines perception perception load perception remain perception distracted perception distracted remain headlines load perception perception perception distracted headlines perception\n",
      "optimistic perception perception perception perception headlines perception headlines remain distracted perception remain perception distracted distracted perception tricky perception remain perception\n",
      "perception perception headlines perception optimistic perception headlines remain perception perception distracted remain headlines perception perception remain perception headlines perception perception\n",
      "perception tricky perception perception perception load headlines headlines headlines headlines remain perception headlines interpretation perception perception perception fields perception remain\n",
      "load headlines tricky perception tricky distracted tricky headlines perception tricky headlines optimistic tricky headlines headlines tricky tricky distracted tricky tricky\n",
      "tricky tricky distracted optimistic headlines tricky perception tricky tricky optimistic controversial tricky tricky tricky tricky headlines tricky tricky perception tricky\n",
      "perception tricky tricky tricky tricky tricky tricky headlines tricky tricky perception tricky distracted distracted tricky tricky optimistic tricky tricky tricky\n",
      "tricky tricky tricky optimistic tricky tricky tricky tricky tricky tricky tricky tricky tricky headlines branch tricky tricky tricky distracted tricky\n",
      "tricky tricky tricky distracted distracted controversial headlines headlines weirdly tricky tricky tricky tricky load tricky distracted tricky tricky tricky tricky\n",
      "distracted headlines tricky tricky optimistic tricky tricky tricky tricky tricky weirdly tricky tricky tricky tricky tricky tricky tricky tricky tricky\n",
      "tricky tricky tricky tricky optimistic headlines tricky tricky tricky tricky tricky tricky tricky tricky weirdly distracted tricky headlines distracted distracted\n",
      "tricky headlines tricky distracted distracted tricky tricky tricky headlines tricky tricky tricky tricky tricky tricky tricky tricky tricky headlines weirdly\n",
      "tricky tricky tricky tricky tricky perception headlines headlines optimistic weirdly tricky tricky tricky distracted tricky tricky tricky headlines tricky tricky\n",
      "distracted tricky tricky headlines distracted headlines tricky tricky distracted headlines tricky perception tricky headlines tricky tricky tricky tricky headlines tricky\n",
      "tricky tricky distracted headlines fails tricky tricky tricky tricky tricky tricky tricky tricky tricky headlines tricky tricky headlines distracted headlines\n",
      "tricky distracted tricky perception tricky tricky tricky tricky perception tricky tricky tricky tricky tricky tricky distracted tricky headlines tricky tricky\n",
      "headlines headlines distracted optimistic tricky tricky tricky tricky tricky tricky headlines headlines tricky headlines tricky tricky tricky tricky tricky tricky\n",
      "tricky tricky tricky headlines tricky tricky headlines distracted tricky tricky tricky tricky tricky tricky distracted headlines tricky tricky tricky tricky\n",
      "optimistic tricky tricky tricky tricky tricky headlines tricky distracted tricky tricky tricky tricky tricky tricky tricky tricky tricky headlines perception\n",
      "tricky distracted tricky headlines tricky tricky tricky tricky distracted tricky headlines tricky tricky tricky optimistic headlines headlines optimistic distracted headlines\n",
      "weirdly tricky optimistic distracted headlines tricky perception pointed distracted tricky tricky tricky headlines tricky distracted tricky distracted tricky tricky tricky\n",
      "distracted tricky tricky distracted distracted distracted tricky headlines tricky optimistic tricky tricky tricky tricky tricky tricky tricky tricky distracted weirdly\n",
      "tricky client tricky headlines tricky distracted distracted distracted tricky tricky tricky tricky tricky load tricky tricky pointed headlines tricky headlines\n",
      "tricky tricky tricky tricky tricky tricky tricky tricky tricky brexit tricky tricky headlines distracted headlines tricky mainstream tricky tricky distracted\n",
      "tricky tricky tricky tricky distracted tricky distracted optimistic tricky tricky load headlines tricky tricky tricky tricky mainstream tricky optimistic tricky\n",
      "tricky perception tricky distracted distracted tricky tricky tricky tricky headlines load tricky remain tricky tricky tricky tricky tricky perception tricky\n",
      "weirdly tricky tricky tricky tricky load tricky distracted tricky tricky tricky tricky headlines tricky tricky tricky remain tricky tricky tricky\n",
      "headlines tricky distracted tricky weirdly headlines remain tricky tricky tricky tricky tricky perception tricky tricky tricky tricky distracted tricky tricky\n",
      "tricky tricky tricky headlines tricky tricky optimistic controversial tricky headlines tricky tricky optimistic tricky tricky headlines tricky tricky headlines tricky\n",
      "tricky distracted remain tricky remain measure remain distracted measure remain remain headlines remain distracted remain remain measure tricky remain distracted\n",
      "remain remain remain tricky remain remain tricky remain remain remain headlines remain remain remain remain remain remain distracted tricky remain\n",
      "headlines remain remain remain remain remain remain remain remain remain tricky remain tricky tricky remain remain remain remain remain remain\n",
      "headlines remain remain perception remain remain remain remain remain remain remain remain remain remain tricky remain remain remain tricky remain\n",
      "controversial remain remain measure controversial measure remain remain tricky headlines remain remain remain controversial remain remain remain remain remain remain\n",
      "pointed remain remain perception remain distracted remain remain remain remain distracted remain remain remain remain distracted remain remain remain distracted\n",
      "remain remain remain remain remain remain distracted remain remain remain remain remain remain load headlines tricky remain remain remain measure\n",
      "remain remain remain measure tricky remain remain interpretation remain remain remain remain headlines remain remain remain remain remain distracted headlines\n",
      "remain remain remain remain remain headlines remain distracted perception headlines remain tricky remain perception distracted remain remain remain remain remain\n",
      "measure remain distracted remain tricky remain remain perception measure remain remain tricky remain remain remain remain remain remain remain remain\n",
      "remain remain tricky remain tricky remain remain remain remain remain remain remain distracted remain distracted distracted remain distracted remain distracted\n",
      "remain measure remain tricky remain remain remain remain tricky remain remain remain tricky remain remain tricky remain remain distracted distracted\n",
      "remain remain measure headlines remain remain remain remain remain remain distracted remain remain remain remain remain remain remain remain remain\n",
      "remain remain remain remain remain remain remain tricky remain remain remain remain remain remain remain remain distracted remain remain remain\n",
      "interpretation remain remain remain remain remain remain remain remain remain remain remain remain remain remain remain remain remain remain headlines\n",
      "remain measure remain remain remain remain remain remain measure remain remain remain remain remain perception remain remain weirdly measure remain\n",
      "headlines remain perception remain remain remain measure tricky headlines remain distracted distracted remain remain measure distracted remain remain jesse remain\n",
      "measure distracted remain measure remain measure remain remain remain headlines remain remain remain remain distracted remain remain remain tricky headlines\n",
      "remain interpretation remain remain remain tricky measure measure distracted remain tricky remain remain perception remain remain pointed remain remain remain\n",
      "remain remain remain remain distracted remain tricky remain remain distracted remain remain remain pointed remain distracted remain remain remain measure\n",
      "remain remain remain remain measure distracted measure headlines remain remain measure remain distracted remain remain remain remain remain headlines remain\n",
      "remain tricky remain remain remain remain remain remain remain remain distracted remain tricky remain distracted remain distracted distracted interpretation headlines\n",
      "headlines remain distracted remain remain tricky remain controversial remain distracted remain remain remain remain remain remain tricky remain remain remain\n",
      "remain remain tricky remain headlines remain tricky remain remain remain distracted remain headlines remain remain remain remain measure remain remain\n",
      "remain tricky remain remain remain remain weirdly headlines load remain remain remain weirdly remain remain remain remain remain remain remain\n",
      "perception tricky tricky distracted tricky measure tricky tricky perception tricky tricky tricky tricky tricky tricky tricky tricky measure tricky tricky\n",
      "tricky tricky tricky tricky tricky tricky perception tricky tricky tricky weirdly tricky tricky tricky tricky tricky tricky tricky perception tricky\n",
      "perception tricky tricky tricky tricky tricky tricky tricky tricky tricky measure tricky measure perception tricky tricky tricky tricky tricky tricky\n",
      "remain tricky tricky tricky tricky tricky tricky tricky tricky tricky tricky tricky tricky tricky tricky tricky tricky tricky remain tricky\n",
      "tricky tricky tricky perception controversial measure tricky tricky tricky tricky tricky tricky tricky optimistic tricky tricky tricky tricky tricky tricky\n",
      "controversial tricky tricky tricky tricky tricky tricky tricky tricky tricky tricky tricky tricky tricky tricky optimistic tricky tricky tricky tricky\n",
      "tricky tricky tricky tricky tricky tricky tricky tricky tricky tricky tricky tricky tricky tricky load remain tricky tricky optimistic perception\n",
      "tricky tricky tricky tricky perception tricky tricky tricky tricky tricky tricky tricky tricky tricky tricky tricky tricky tricky tricky distracted\n",
      "tricky tricky tricky tricky tricky distracted tricky tricky optimistic perception tricky aide tricky controversial tricky tricky tricky tricky tricky tricky\n",
      "measure tricky tricky tricky tricky tricky tricky tricky measure tricky tricky perception tricky tricky tricky tricky tricky tricky tricky tricky\n",
      "tricky tricky perception tricky tricky tricky tricky tricky tricky tricky tricky tricky tricky tricky tricky tricky tricky tricky tricky tricky\n",
      "tricky measure tricky perception tricky tricky tricky tricky distracted tricky tricky tricky headlines tricky tricky perception tricky tricky tricky tricky\n",
      "tricky tricky measure perception tricky tricky tricky tricky tricky tricky tricky tricky tricky tricky tricky tricky tricky tricky tricky tricky\n",
      "tricky tricky tricky tricky tricky tricky tricky remain tricky tricky tricky tricky tricky tricky tricky tricky tricky tricky tricky tricky\n",
      "tricky tricky tricky tricky tricky tricky tricky tricky tricky tricky tricky tricky tricky tricky tricky tricky tricky tricky tricky distracted\n",
      "tricky perception tricky tricky tricky tricky tricky tricky measure tricky tricky tricky tricky tricky tricky tricky tricky headlines measure tricky\n",
      "perception tricky optimistic tricky tricky tricky perception tricky mainstream tricky tricky tricky tricky tricky measure tricky tricky tricky tricky tricky\n",
      "measure tricky tricky measure tricky measure tricky tricky tricky optimistic tricky tricky tricky tricky tricky tricky tricky tricky measure weirdly\n",
      "tricky distracted tricky tricky tricky perception measure measure tricky tricky tricky tricky tricky tricky tricky tricky measure tricky tricky tricky\n",
      "tricky tricky tricky tricky tricky tricky tricky tricky tricky tricky tricky tricky tricky controversial tricky tricky tricky tricky tricky measure\n",
      "tricky tricky tricky tricky tricky tricky measure perception tricky tricky perception tricky tricky tricky tricky tricky tricky tricky headlines tricky\n",
      "tricky perception tricky tricky tricky tricky tricky tricky tricky tricky tricky tricky perception tricky tricky tricky tricky tricky perception tricky\n",
      "optimistic tricky tricky tricky tricky remain tricky perception tricky tricky tricky tricky tricky tricky tricky tricky tricky tricky tricky tricky\n",
      "tricky tricky perception tricky tricky tricky perception tricky tricky tricky tricky tricky weirdly tricky tricky tricky tricky measure tricky tricky\n",
      "tricky tricky tricky tricky tricky tricky headlines perception tricky tricky tricky tricky headlines tricky tricky tricky tricky tricky tricky tricky\n",
      "tricky remain remain tricky remain optimistic remain remain tricky remain remain headlines remain tricky perception remain distracted tricky remain perception\n",
      "remain remain remain load remain remain tricky remain remain remain headlines remain remain remain remain remain remain remain tricky remain\n",
      "tricky remain remain remain remain remain remain remain remain remain tricky remain tricky tricky remain remain remain remain remain remain\n",
      "headlines remain remain remain remain distracted remain perception remain remain remain remain remain perception tricky remain remain remain tricky remain\n",
      "fails remain remain optimistic perception weirdly remain remain tricky perception remain remain remain weirdly remain remain remain remain remain remain\n",
      "perception remain remain remain remain remain remain remain remain remain tricky distracted remain remain remain remain remain remain tricky remain\n",
      "remain remain remain remain remain remain perception remain remain perception remain remain tricky tricky tricky tricky remain remain interpretation tricky\n",
      "remain remain perception tricky tricky remain remain tricky perception remain remain remain remain remain remain remain remain remain remain tricky\n",
      "remain remain remain remain remain tricky remain remain remain headlines remain tricky remain perception remain remain remain remain remain remain\n",
      "optimistic remain remain remain tricky remain remain distracted perception remain remain tricky remain remain remain remain remain remain remain remain\n",
      "remain remain tricky remain tricky remain remain remain remain remain remain remain perception remain remain perception remain remain remain remain\n",
      "perception perception remain tricky remain remain remain remain tricky remain perception perception tricky remain remain tricky remain remain remain remain\n",
      "remain remain optimistic tricky remain remain perception remain remain remain remain remain remain remain remain remain remain remain remain remain\n",
      "remain remain remain perception remain remain remain tricky remain remain remain remain remain remain remain remain remain remain remain remain\n",
      "remain remain remain remain remain remain remain remain remain remain perception remain remain remain remain remain remain remain remain tricky\n",
      "remain optimistic remain remain perception remain remain remain tricky remain remain remain remain remain remain remain remain remain tricky remain\n",
      "tricky remain remain remain remain remain tricky headlines perception remain perception remain remain remain tricky remain remain remain perception remain\n",
      "perception remain remain tricky remain tricky distracted remain remain perception remain perception remain remain remain remain remain remain tricky headlines\n",
      "remain tricky remain remain remain tricky optimistic perception remain remain tricky remain remain remain remain perception optimistic remain remain remain\n",
      "remain remain remain remain remain remain tricky remain remain perception distracted remain remain perception remain remain perception perception remain tricky\n",
      "remain remain remain remain measure perception optimistic tricky remain perception tricky remain remain remain remain remain remain perception headlines remain\n",
      "remain tricky remain remain remain remain remain remain remain remain perception perception tricky remain perception remain remain remain weirdly weirdly\n",
      "load remain perception remain remain tricky remain tricky remain remain remain remain remain remain remain remain fails remain remain remain\n",
      "remain remain tricky remain load remain tricky remain remain remain remain remain tricky remain remain remain remain optimistic remain remain\n",
      "remain tricky remain remain remain remain weirdly weirdly remain perception remain remain weirdly remain remain remain remain weirdly remain remain\n",
      "perception tricky tricky remain tricky headlines tricky tricky remain tricky tricky perception tricky tricky tricky tricky tricky remain tricky tricky\n",
      "tricky tricky tricky remain tricky tricky remain tricky tricky headlines remain tricky tricky tricky tricky tricky tricky tricky remain tricky\n",
      "remain tricky tricky tricky tricky tricky tricky tricky tricky tricky remain tricky remain remain tricky tricky tricky tricky tricky tricky\n",
      "perception tricky tricky tricky tricky tricky tricky tricky tricky tricky tricky tricky tricky tricky branch tricky tricky tricky remain tricky\n",
      "tricky tricky tricky headlines tricky headlines tricky tricky controversial tricky tricky tricky tricky load tricky tricky tricky tricky tricky tricky\n",
      "tricky tricky tricky tricky tricky tricky tricky tricky tricky tricky optimistic tricky tricky tricky tricky tricky tricky tricky tricky tricky\n",
      "tricky tricky tricky tricky tricky tricky tricky tricky tricky tricky tricky tricky tricky tricky controversial remain tricky tricky tricky remain\n",
      "tricky tricky tricky distracted remain tricky tricky tricky tricky tricky tricky tricky headlines tricky tricky tricky tricky tricky tricky load\n",
      "tricky tricky tricky tricky tricky perception tricky tricky tricky perception tricky remain tricky tricky tricky tricky tricky tricky tricky tricky\n",
      "headlines tricky tricky tricky measure tricky tricky tricky headlines tricky tricky remain tricky tricky tricky tricky tricky tricky tricky tricky\n",
      "tricky tricky remain tricky tricky tricky tricky tricky tricky tricky tricky tricky tricky tricky tricky tricky tricky tricky tricky tricky\n",
      "tricky tricky tricky remain tricky tricky tricky tricky remain tricky tricky tricky headlines tricky tricky remain tricky tricky tricky tricky\n",
      "tricky tricky headlines interpretation tricky tricky tricky tricky tricky tricky tricky tricky tricky tricky tricky tricky tricky tricky tricky tricky\n",
      "tricky tricky tricky tricky tricky tricky tricky remain tricky tricky tricky tricky tricky tricky tricky tricky tricky tricky tricky tricky\n",
      "tricky tricky tricky tricky tricky tricky tricky tricky tricky tricky tricky tricky tricky tricky tricky tricky tricky tricky tricky perception\n",
      "tricky remain tricky tricky tricky tricky tricky tricky remain tricky tricky tricky tricky tricky tricky tricky tricky tricky remain tricky\n",
      "perception tricky tricky tricky tricky tricky remain headlines tricky tricky tricky tricky tricky tricky remain tricky tricky tricky tricky tricky\n",
      "tricky tricky tricky distracted tricky perception tricky tricky tricky headlines tricky tricky tricky tricky tricky tricky tricky tricky remain measure\n",
      "tricky headlines tricky tricky tricky remain headlines tricky tricky tricky tricky tricky tricky tricky tricky tricky headlines tricky tricky tricky\n",
      "tricky tricky tricky tricky tricky tricky tricky tricky tricky tricky tricky tricky tricky tricky tricky tricky tricky tricky tricky remain\n",
      "tricky tricky tricky tricky tricky tricky headlines interpretation tricky tricky remain tricky tricky tricky tricky tricky tricky tricky weirdly tricky\n",
      "tricky remain tricky tricky tricky tricky tricky tricky tricky tricky tricky tricky remain tricky tricky tricky tricky tricky headlines headlines\n",
      "measure tricky tricky tricky tricky remain tricky remain tricky tricky tricky tricky tricky tricky tricky tricky tricky tricky tricky tricky\n",
      "tricky tricky remain tricky measure tricky remain tricky tricky tricky tricky tricky perception tricky tricky tricky tricky headlines tricky tricky\n",
      "tricky tricky tricky tricky tricky tricky tricky load tricky tricky tricky tricky tricky tricky tricky tricky tricky tricky tricky tricky\n",
      "tricky remain remain tricky remain weirdly remain remain tricky remain remain tricky remain remain remain remain remain tricky remain remain\n",
      "remain remain remain tricky remain remain tricky remain remain remain tricky remain remain remain remain remain remain remain tricky remain\n",
      "tricky remain remain remain remain remain remain remain remain remain tricky remain tricky tricky remain remain remain remain remain remain\n",
      "tricky remain remain remain remain remain remain remain remain remain remain remain remain remain cooper remain remain remain tricky remain\n",
      "tricky remain remain tricky remain weirdly remain remain tricky remain remain remain remain tricky remain remain remain remain remain remain\n",
      "remain remain remain remain remain remain remain remain remain remain measure remain remain remain remain remain remain remain remain remain\n",
      "remain remain remain remain remain remain remain remain remain remain remain remain remain perception tricky tricky remain remain remain tricky\n",
      "remain remain remain measure tricky remain remain remain remain remain remain remain remain remain remain remain remain remain remain tricky\n",
      "remain remain remain remain remain tricky remain remain remain tricky remain tricky remain remain remain remain remain remain remain remain\n",
      "perception remain remain remain tricky remain remain remain perception remain remain tricky remain remain remain remain remain remain remain remain\n",
      "remain remain tricky remain remain remain remain remain remain remain remain remain remain remain remain distracted remain remain remain remain\n",
      "remain remain remain tricky remain remain remain remain tricky remain remain remain tricky remain remain tricky remain remain remain remain\n",
      "remain remain weirdly tricky remain remain remain remain remain remain remain remain remain remain remain remain remain remain remain remain\n",
      "remain remain remain remain remain remain remain tricky remain remain remain remain remain remain remain remain remain remain remain remain\n",
      "interpretation remain remain remain remain remain remain remain measure remain remain remain remain remain remain remain remain remain remain tricky\n",
      "remain tricky remain remain remain remain remain remain tricky remain remain remain remain remain remain remain remain remain tricky remain\n",
      "tricky remain interpretation remain remain remain tricky headlines measure remain remain remain remain remain tricky remain remain remain remain remain\n",
      "remain remain remain optimistic remain tricky remain remain remain controversial remain remain remain remain remain remain remain remain tricky tricky\n",
      "remain tricky remain remain remain tricky weirdly remain remain remain tricky remain remain remain remain remain controversial remain remain remain\n",
      "remain remain remain remain remain remain tricky remain remain remain remain remain remain remain remain remain perception remain remain tricky\n",
      "remain remain remain remain measure remain tricky tricky remain remain tricky remain remain remain remain remain remain remain load remain\n",
      "remain tricky remain remain remain remain remain remain remain remain remain remain tricky remain weirdly remain remain remain tricky remain\n",
      "measure remain remain remain remain tricky remain tricky remain remain remain remain remain remain remain remain tricky remain remain remain\n",
      "remain remain tricky remain measure remain tricky remain remain remain remain remain tricky remain remain remain remain weirdly remain remain\n",
      "remain tricky remain remain remain remain remain tricky remain remain remain remain remain remain remain remain remain controversial remain remain\n",
      "distracted tricky tricky remain tricky weirdly tricky tricky remain tricky tricky perception tricky tricky tricky tricky tricky remain tricky tricky\n",
      "tricky tricky tricky remain tricky tricky remain tricky tricky tricky remain tricky tricky tricky tricky tricky tricky tricky remain tricky\n",
      "remain tricky tricky tricky tricky tricky tricky tricky tricky tricky remain tricky remain remain tricky tricky tricky tricky tricky tricky\n",
      "interpretation tricky tricky tricky tricky tricky tricky tricky tricky tricky tricky tricky tricky tricky hackers tricky tricky tricky tricky tricky\n",
      "tricky tricky tricky weirdly tricky weirdly tricky tricky weirdly tricky tricky tricky tricky perception tricky tricky tricky tricky tricky tricky\n",
      "tricky tricky tricky tricky tricky tricky tricky tricky tricky tricky tricky tricky tricky tricky tricky tricky tricky tricky tricky tricky\n",
      "tricky tricky tricky tricky tricky tricky tricky tricky tricky tricky tricky tricky tricky tricky optimistic remain tricky tricky tricky remain\n",
      "tricky tricky tricky tricky remain tricky tricky tricky tricky tricky tricky tricky tricky tricky tricky tricky tricky tricky tricky remain\n",
      "tricky tricky tricky tricky tricky remain tricky tricky tricky distracted tricky remain tricky tricky tricky tricky tricky tricky tricky tricky\n",
      "headlines tricky tricky tricky measure tricky tricky tricky tricky tricky tricky remain tricky tricky tricky tricky tricky tricky tricky tricky\n",
      "tricky tricky remain tricky tricky tricky tricky tricky tricky tricky tricky tricky tricky tricky tricky tricky tricky tricky tricky tricky\n",
      "tricky tricky tricky remain tricky tricky tricky tricky remain tricky tricky tricky tricky tricky tricky remain tricky tricky tricky tricky\n",
      "tricky tricky weirdly perception tricky tricky tricky tricky tricky tricky tricky tricky tricky tricky tricky tricky tricky tricky tricky tricky\n",
      "tricky tricky tricky tricky tricky tricky tricky remain tricky tricky tricky tricky tricky tricky tricky tricky tricky tricky tricky tricky\n",
      "tricky tricky tricky tricky tricky tricky tricky tricky tricky tricky tricky tricky tricky tricky tricky tricky tricky tricky tricky remain\n",
      "tricky remain tricky tricky tricky tricky tricky tricky remain tricky tricky tricky tricky tricky tricky tricky tricky tricky remain tricky\n",
      "perception tricky tricky tricky tricky tricky remain measure tricky tricky tricky tricky tricky tricky remain tricky tricky tricky tricky tricky\n",
      "tricky tricky tricky measure tricky tricky tricky tricky tricky controversial tricky tricky tricky tricky tricky tricky tricky tricky remain remain\n",
      "tricky weirdly tricky tricky tricky remain headlines tricky tricky tricky tricky tricky tricky tricky tricky tricky headlines tricky tricky tricky\n",
      "tricky tricky tricky tricky tricky tricky tricky tricky tricky tricky tricky tricky tricky tricky tricky tricky tricky tricky tricky remain\n",
      "tricky tricky tricky tricky tricky tricky load perception tricky tricky perception tricky tricky tricky tricky tricky tricky tricky pointed tricky\n",
      "tricky remain tricky tricky tricky tricky tricky tricky tricky tricky tricky tricky remain tricky tricky tricky tricky tricky tricky tricky\n",
      "optimistic tricky tricky tricky tricky remain tricky remain tricky tricky tricky tricky tricky tricky tricky tricky tricky tricky tricky tricky\n",
      "tricky tricky remain tricky optimistic tricky perception tricky tricky tricky tricky tricky perception tricky tricky tricky tricky headlines tricky tricky\n",
      "tricky tricky tricky tricky tricky tricky tricky remain tricky tricky tricky tricky tricky tricky tricky tricky tricky tricky tricky tricky\n",
      "tricky distracted distracted tricky remain tricky perception distracted tricky remain remain tricky remain distracted distracted remain remain tricky remain remain\n",
      "remain remain remain tricky distracted remain tricky remain remain remain tricky remain distracted remain remain remain client remain tricky remain\n",
      "tricky remain remain remain remain remain remain remain distracted remain tricky remain tricky tricky remain remain remain remain distracted remain\n",
      "tricky remain remain remain remain remain distracted remain remain remain remain remain remain distracted tricky remain remain distracted tricky remain\n",
      "tricky remain remain tricky remain weirdly remain remain tricky remain remain remain distracted tricky remain remain perception distracted remain remain\n",
      "remain distracted remain remain remain distracted remain remain distracted remain measure remain remain remain jesse remain remain remain remain remain\n",
      "distracted remain remain remain remain distracted remain remain remain distracted remain remain distracted fields tricky tricky remain distracted remain tricky\n",
      "remain distracted remain tricky tricky remain remain tricky distracted remain remain remain remain remain jesse remain remain remain remain tricky\n",
      "remain remain remain remain remain tricky distracted distracted remain tricky remain tricky remain perception remain remain distracted distracted remain remain\n",
      "perception remain remain remain tricky distracted remain remain remain remain remain tricky distracted distracted remain distracted remain remain distracted remain\n",
      "remain remain tricky remain weirdly remain remain remain remain remain remain remain remain remain remain remain remain distracted remain remain\n",
      "perception remain remain tricky remain remain remain remain tricky remain remain perception perception remain remain tricky remain remain distracted remain\n",
      "distracted distracted tricky tricky remain remain remain remain remain remain distracted remain jesse remain remain remain perception remain distracted remain\n",
      "distracted distracted remain distracted remain remain remain tricky remain remain remain remain distracted interpretation remain remain distracted remain remain remain\n",
      "perception remain remain jesse remain remain distracted remain distracted remain remain remain remain remain remain remain remain distracted distracted tricky\n",
      "remain tricky remain remain remain jesse remain remain tricky distracted distracted remain remain remain remain distracted remain remain tricky distracted\n",
      "tricky remain tricky remain distracted remain tricky perception perception distracted distracted remain remain remain tricky remain remain distracted remain distracted\n",
      "perception load remain tricky remain tricky remain remain remain weirdly remain distracted remain remain remain remain remain remain tricky tricky\n",
      "remain tricky remain distracted remain tricky tricky remain distracted remain fields remain remain remain remain remain perception remain remain distracted\n",
      "remain remain perception distracted remain remain tricky remain remain distracted remain remain remain remain remain remain tricky remain remain tricky\n",
      "remain remain distracted remain perception remain tricky tricky remain remain tricky remain remain remain remain remain remain remain tricky remain\n",
      "remain tricky remain remain remain distracted remain remain remain distracted remain remain tricky remain perception remain distracted perception tricky weirdly\n",
      "tricky remain remain remain remain tricky remain tricky remain remain remain remain distracted remain remain remain measure remain remain remain\n",
      "distracted remain tricky remain optimistic remain tricky remain remain remain distracted remain tricky remain remain remain remain load remain remain\n",
      "remain tricky remain distracted distracted remain remain tricky distracted distracted remain remain remain remain remain remain remain tricky remain remain\n",
      "measure tricky tricky remain tricky load tricky tricky remain tricky tricky tricky tricky tricky tricky tricky tricky remain tricky tricky\n",
      "tricky tricky tricky remain tricky tricky remain tricky tricky tricky remain tricky tricky tricky tricky tricky tricky tricky remain tricky\n",
      "remain tricky tricky tricky tricky tricky tricky tricky tricky tricky remain tricky remain remain tricky tricky tricky tricky tricky tricky\n",
      "perception tricky tricky tricky tricky tricky tricky tricky tricky tricky tricky tricky tricky tricky tricky tricky tricky tricky tricky tricky\n",
      "tricky tricky tricky load tricky tricky tricky tricky tricky tricky tricky tricky tricky load tricky tricky tricky tricky tricky tricky\n",
      "tricky tricky tricky tricky tricky tricky tricky tricky tricky tricky tricky tricky tricky tricky tricky tricky tricky tricky tricky tricky\n",
      "tricky tricky tricky tricky tricky tricky tricky tricky tricky tricky tricky tricky tricky tricky tricky remain tricky tricky tricky remain\n",
      "tricky tricky tricky tricky remain tricky tricky tricky tricky tricky tricky tricky tricky tricky tricky tricky tricky tricky tricky perception\n",
      "tricky tricky tricky tricky tricky remain tricky tricky tricky perception tricky tricky tricky tricky tricky tricky tricky tricky tricky tricky\n",
      "tricky tricky tricky tricky perception tricky tricky tricky tricky tricky tricky remain tricky tricky tricky tricky tricky tricky tricky tricky\n",
      "tricky tricky remain tricky tricky tricky tricky tricky tricky tricky tricky tricky tricky tricky tricky tricky tricky tricky tricky tricky\n",
      "tricky tricky tricky remain tricky tricky tricky tricky remain tricky tricky tricky tricky tricky tricky remain tricky tricky tricky tricky\n",
      "tricky tricky load remain tricky tricky tricky tricky tricky tricky tricky tricky tricky tricky tricky tricky tricky tricky tricky tricky\n",
      "tricky tricky tricky tricky tricky tricky tricky remain tricky tricky tricky tricky tricky tricky tricky tricky tricky tricky tricky tricky\n",
      "tricky tricky tricky tricky tricky tricky tricky tricky tricky tricky tricky tricky tricky tricky tricky tricky tricky tricky tricky remain\n",
      "tricky remain tricky tricky tricky tricky tricky tricky remain tricky tricky tricky tricky tricky tricky tricky tricky tricky remain tricky\n",
      "perception tricky tricky tricky tricky tricky remain measure tricky tricky tricky tricky tricky tricky remain tricky tricky tricky tricky tricky\n",
      "tricky tricky tricky tricky tricky tricky tricky tricky tricky weirdly tricky tricky tricky tricky tricky tricky tricky tricky remain client\n",
      "tricky remain tricky tricky tricky remain tricky tricky tricky tricky tricky tricky tricky tricky tricky tricky headlines tricky tricky tricky\n",
      "tricky tricky tricky tricky tricky tricky tricky tricky tricky tricky tricky tricky tricky tricky tricky tricky tricky tricky tricky remain\n",
      "tricky tricky tricky tricky tricky tricky weirdly weirdly tricky tricky remain tricky tricky tricky tricky tricky tricky tricky perception tricky\n",
      "tricky remain tricky tricky tricky tricky tricky tricky tricky tricky tricky tricky perception tricky tricky tricky tricky tricky tricky tricky\n",
      "tricky tricky tricky tricky tricky perception tricky remain tricky tricky tricky tricky tricky tricky tricky tricky measure tricky tricky tricky\n",
      "tricky tricky perception tricky weirdly tricky perception tricky tricky tricky tricky tricky perception tricky tricky tricky tricky tricky tricky tricky\n",
      "tricky tricky tricky tricky tricky tricky tricky remain tricky tricky tricky tricky tricky tricky tricky tricky tricky tricky tricky tricky\n",
      "tricky perception perception tricky perception tricky remain perception tricky perception perception tricky remain perception perception perception remain tricky remain remain\n",
      "perception remain perception tricky perception perception tricky perception remain remain tricky remain perception perception perception perception remain perception tricky remain\n",
      "tricky perception perception remain remain remain remain perception remain perception tricky perception tricky tricky remain remain remain perception perception remain\n",
      "tricky perception perception remain perception remain perception remain remain perception remain perception remain perception optimistic remain remain perception tricky remain\n",
      "tricky remain remain tricky remain load perception perception tricky remain remain perception perception tricky remain perception remain perception remain remain\n",
      "remain perception perception remain perception perception perception perception perception remain perception remain remain remain remain remain perception perception perception remain\n",
      "perception remain perception perception perception perception remain remain remain remain perception remain perception tricky tricky tricky perception perception remain tricky\n",
      "remain perception remain tricky tricky perception perception controversial remain perception remain perception remain perception remain perception remain remain remain tricky\n",
      "remain remain remain remain perception tricky perception perception remain tricky perception tricky perception perception perception perception perception perception remain remain\n",
      "perception remain remain perception tricky perception remain remain perception remain remain tricky perception perception perception perception remain remain perception remain\n",
      "remain remain tricky perception tricky remain perception remain remain remain perception perception remain perception remain remain remain perception remain perception\n",
      "perception remain remain tricky remain remain remain perception tricky perception perception perception measure perception perception tricky perception perception perception remain\n",
      "perception perception tricky tricky perception perception remain perception remain perception perception remain remain perception remain perception remain perception perception remain\n",
      "perception perception remain perception perception remain perception tricky remain remain remain perception perception tricky remain perception remain perception perception remain\n",
      "perception perception perception perception perception remain perception remain measure perception perception remain perception remain remain perception perception perception perception tricky\n",
      "remain tricky perception perception remain perception perception perception tricky perception perception perception perception remain remain perception remain remain tricky perception\n",
      "tricky perception tricky perception perception remain tricky weirdly perception perception remain remain perception perception tricky remain perception perception remain perception\n",
      "perception perception remain tricky perception tricky remain perception remain weirdly remain perception perception remain remain remain perception remain tricky tricky\n",
      "remain tricky fields perception remain tricky load perception remain perception tricky perception remain remain perception remain interpretation perception perception perception\n",
      "remain perception remain perception remain remain tricky remain perception perception perception perception perception remain perception remain tricky remain remain tricky\n",
      "remain remain remain remain tricky remain tricky tricky remain perception tricky perception perception remain remain remain remain remain tricky remain\n",
      "perception tricky perception perception perception perception remain perception remain perception remain remain tricky remain perception remain perception perception tricky remain\n",
      "headlines perception perception perception remain tricky remain tricky remain remain perception remain perception remain perception perception measure remain perception remain\n",
      "perception perception tricky perception headlines remain tricky remain remain perception remain remain tricky remain remain perception remain load perception perception\n",
      "perception tricky perception perception perception remain remain tricky perception remain remain perception remain remain perception perception remain measure perception weirdly\n",
      "perception tricky tricky remain tricky weirdly tricky tricky remain tricky tricky load tricky tricky tricky tricky tricky remain tricky tricky\n",
      "tricky tricky tricky remain tricky tricky perception tricky tricky tricky remain tricky tricky tricky tricky tricky tricky tricky perception tricky\n",
      "remain tricky tricky tricky tricky tricky tricky tricky tricky tricky load tricky remain remain tricky tricky tricky tricky tricky tricky\n",
      "perception tricky tricky tricky tricky tricky tricky tricky tricky tricky tricky tricky tricky tricky skittles tricky tricky tricky mainstream tricky\n",
      "tricky tricky tricky perception tricky tricky tricky tricky tricky tricky tricky tricky tricky distracted tricky tricky tricky tricky tricky tricky\n",
      "tricky tricky tricky tricky tricky tricky tricky tricky tricky tricky tricky tricky tricky tricky tricky tricky tricky tricky tricky tricky\n",
      "tricky tricky tricky tricky tricky tricky tricky tricky tricky tricky tricky tricky tricky tricky controversial fields tricky tricky tricky remain\n",
      "tricky tricky tricky tricky remain tricky tricky tricky tricky tricky tricky tricky tricky tricky tricky tricky tricky tricky tricky load\n",
      "tricky tricky tricky tricky tricky remain tricky tricky tricky perception tricky remain tricky tricky tricky tricky tricky tricky tricky tricky\n",
      "tricky tricky tricky tricky measure tricky tricky tricky tricky tricky tricky distracted tricky tricky tricky tricky tricky tricky tricky tricky\n",
      "tricky tricky remain tricky tricky tricky tricky tricky tricky tricky tricky tricky tricky tricky tricky tricky tricky tricky tricky tricky\n",
      "tricky tricky tricky remain tricky tricky tricky tricky remain tricky tricky tricky tricky tricky tricky remain tricky tricky tricky tricky\n",
      "tricky tricky tricky remain tricky tricky tricky tricky tricky tricky tricky tricky tricky tricky tricky tricky tricky tricky tricky tricky\n",
      "tricky tricky tricky tricky tricky tricky tricky remain tricky tricky tricky tricky tricky tricky tricky tricky tricky tricky tricky tricky\n",
      "tricky tricky tricky tricky tricky tricky tricky tricky measure tricky tricky tricky tricky tricky tricky tricky tricky tricky tricky remain\n",
      "tricky remain tricky tricky tricky tricky tricky tricky perception tricky tricky tricky tricky tricky tricky tricky tricky tricky perception tricky\n",
      "perception tricky tricky tricky tricky tricky remain tricky tricky tricky tricky tricky tricky tricky remain tricky tricky tricky tricky tricky\n",
      "tricky tricky tricky tricky tricky tricky tricky tricky tricky tricky tricky tricky tricky tricky tricky tricky tricky tricky perception headlines\n",
      "tricky remain tricky tricky tricky remain tricky tricky tricky tricky tricky tricky tricky tricky tricky tricky tricky tricky tricky tricky\n",
      "tricky tricky tricky tricky tricky tricky controversial tricky tricky tricky tricky tricky tricky tricky tricky tricky tricky tricky tricky perception\n",
      "tricky tricky tricky tricky tricky tricky weirdly weirdly tricky tricky remain tricky tricky tricky tricky tricky tricky tricky tricky tricky\n",
      "tricky perception tricky tricky tricky tricky tricky tricky tricky tricky tricky tricky interpretation tricky tricky tricky tricky tricky tricky tricky\n",
      "load tricky tricky tricky tricky remain tricky remain tricky tricky tricky tricky tricky tricky tricky tricky measure tricky tricky tricky\n",
      "tricky tricky perception tricky load tricky interpretation tricky tricky tricky tricky tricky perception tricky tricky tricky tricky tricky tricky tricky\n",
      "tricky tricky tricky tricky tricky tricky tricky weirdly tricky tricky tricky tricky tricky tricky tricky tricky tricky tricky tricky tricky\n"
     ]
    }
   ],
   "source": [
    "for i in range(B):\n",
    "    print(arr2sent(pred_v[i]))"
   ]
  },
  {
   "cell_type": "code",
   "execution_count": 22,
   "metadata": {},
   "outputs": [
    {
     "data": {
      "text/plain": [
       "'hey whats that in the background racist _ _ _ _ _ _ _ _ _ _ _ _ _'"
      ]
     },
     "execution_count": 22,
     "metadata": {},
     "output_type": "execute_result"
    }
   ],
   "source": [
    "arr2sent( idx_a[j*B:(j+1)*B][11])"
   ]
  },
  {
   "cell_type": "markdown",
   "metadata": {},
   "source": [
    " "
   ]
  },
  {
   "cell_type": "markdown",
   "metadata": {},
   "source": [
    " "
   ]
  },
  {
   "cell_type": "markdown",
   "metadata": {},
   "source": [
    " "
   ]
  },
  {
   "cell_type": "markdown",
   "metadata": {},
   "source": [
    " "
   ]
  },
  {
   "cell_type": "markdown",
   "metadata": {},
   "source": [
    " "
   ]
  },
  {
   "cell_type": "markdown",
   "metadata": {},
   "source": [
    " "
   ]
  },
  {
   "cell_type": "markdown",
   "metadata": {},
   "source": [
    " "
   ]
  },
  {
   "cell_type": "markdown",
   "metadata": {},
   "source": [
    " "
   ]
  },
  {
   "cell_type": "markdown",
   "metadata": {},
   "source": [
    " "
   ]
  },
  {
   "cell_type": "markdown",
   "metadata": {},
   "source": [
    " "
   ]
  },
  {
   "cell_type": "markdown",
   "metadata": {},
   "source": [
    " "
   ]
  },
  {
   "cell_type": "markdown",
   "metadata": {},
   "source": [
    " "
   ]
  },
  {
   "cell_type": "markdown",
   "metadata": {},
   "source": [
    " "
   ]
  },
  {
   "cell_type": "markdown",
   "metadata": {},
   "source": [
    " "
   ]
  },
  {
   "cell_type": "markdown",
   "metadata": {},
   "source": [
    " "
   ]
  },
  {
   "cell_type": "markdown",
   "metadata": {},
   "source": [
    " "
   ]
  },
  {
   "cell_type": "markdown",
   "metadata": {},
   "source": [
    " "
   ]
  },
  {
   "cell_type": "markdown",
   "metadata": {},
   "source": [
    " "
   ]
  },
  {
   "cell_type": "markdown",
   "metadata": {},
   "source": [
    " "
   ]
  },
  {
   "cell_type": "markdown",
   "metadata": {},
   "source": [
    " "
   ]
  },
  {
   "cell_type": "markdown",
   "metadata": {},
   "source": [
    " "
   ]
  },
  {
   "cell_type": "markdown",
   "metadata": {},
   "source": [
    " "
   ]
  },
  {
   "cell_type": "markdown",
   "metadata": {},
   "source": [
    " "
   ]
  },
  {
   "cell_type": "markdown",
   "metadata": {},
   "source": [
    " "
   ]
  },
  {
   "cell_type": "markdown",
   "metadata": {},
   "source": [
    " "
   ]
  },
  {
   "cell_type": "markdown",
   "metadata": {},
   "source": [
    " "
   ]
  },
  {
   "cell_type": "markdown",
   "metadata": {},
   "source": [
    " "
   ]
  },
  {
   "cell_type": "markdown",
   "metadata": {},
   "source": [
    " "
   ]
  },
  {
   "cell_type": "markdown",
   "metadata": {},
   "source": [
    " "
   ]
  },
  {
   "cell_type": "markdown",
   "metadata": {},
   "source": [
    " "
   ]
  },
  {
   "cell_type": "markdown",
   "metadata": {},
   "source": [
    " "
   ]
  }
 ],
 "metadata": {
  "kernelspec": {
   "display_name": "Python 3",
   "language": "python",
   "name": "python3"
  },
  "language_info": {
   "codemirror_mode": {
    "name": "ipython",
    "version": 3
   },
   "file_extension": ".py",
   "mimetype": "text/x-python",
   "name": "python",
   "nbconvert_exporter": "python",
   "pygments_lexer": "ipython3",
   "version": "3.5.2"
  }
 },
 "nbformat": 4,
 "nbformat_minor": 2
}
